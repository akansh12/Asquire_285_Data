{
 "cells": [
  {
   "cell_type": "code",
   "execution_count": 1,
   "metadata": {},
   "outputs": [],
   "source": [
    "import os\n",
    "import pandas as pd\n",
    "import numpy as np\n",
    "import random\n",
    "import matplotlib.pyplot as plt\n",
    "import seaborn as sns\n"
   ]
  },
  {
   "cell_type": "code",
   "execution_count": 2,
   "metadata": {},
   "outputs": [],
   "source": [
    "from sklearn import metrics\n",
    "from sklearn.preprocessing import StandardScaler\n",
    "from sklearn.utils import shuffle\n",
    "import sklearn \n",
    "from sklearn import svm\n",
    "from xgboost import XGBClassifier\n",
    "from sklearn.metrics import confusion_matrix"
   ]
  },
  {
   "cell_type": "code",
   "execution_count": 68,
   "metadata": {},
   "outputs": [],
   "source": [
    "import warnings\n",
    "warnings.filterwarnings('ignore')"
   ]
  },
  {
   "cell_type": "code",
   "execution_count": 3,
   "metadata": {},
   "outputs": [],
   "source": [
    "random.seed(0)"
   ]
  },
  {
   "cell_type": "code",
   "execution_count": 183,
   "metadata": {},
   "outputs": [],
   "source": [
    "Total = []\n",
    "for root, dirs, files in os.walk(\"./\"):\n",
    "    for file in files:\n",
    "        if file.endswith('.wav'):\n",
    "            Total.append(file)\n",
    "name = []\n",
    "for i in Total:\n",
    "    name.append(i[:4])\n",
    "\n",
    "unique = []\n",
    "before_after = []\n",
    "for i in Total:\n",
    "    if np.sum((np.array(name, dtype = int) == int(i[:4]))) == 1:\n",
    "        unique.append(i)\n",
    "    else:\n",
    "        before_after.append(i) \n",
    "\n",
    "Asthmatic_Female = []\n",
    "Asthmatic_Male = []\n",
    "Healthy_Male = []\n",
    "Healthy_Female = []\n",
    "for file in unique:\n",
    "    if file.endswith('.wav'):\n",
    "        if file.find('sthma') !=-1:\n",
    "            if file.find(\"_M_\")!=-1:\n",
    "                Asthmatic_Male.append(file)\n",
    "            if file.find(\"_F_\")!=-1:\n",
    "                Asthmatic_Female.append(file)\n",
    "        if file.find(\"_C_\")!=-1:\n",
    "            if file.find(\"_M_\")!=-1:\n",
    "                Healthy_Male.append(file)\n",
    "            if file.find(\"_F_\")!=-1:\n",
    "                Healthy_Female.append(file)\n",
    "    \n",
    "                \n"
   ]
  },
  {
   "cell_type": "code",
   "execution_count": 162,
   "metadata": {},
   "outputs": [],
   "source": [
    "def train_test_cross_validation_set(Asthmatic_Female, Asthmatic_Male, Healthy_Female, Healthy_Male, before_after):\n",
    "    Asthmatic_Female = shuffle(Asthmatic_Female)\n",
    "    Asthmatic_Male = shuffle(Asthmatic_Male)\n",
    "    Healthy_Female = shuffle(Healthy_Female)\n",
    "    Healthy_Male = shuffle(Healthy_Male)\n",
    "    cross_validation_set = np.concatenate((Asthmatic_Male[:7], Asthmatic_Female[:7], Healthy_Male[:7], Healthy_Female[:7]))\n",
    "    test_set = np.concatenate((Asthmatic_Male[7:14], Asthmatic_Female[7:14], Healthy_Male[7:14], Healthy_Female[7:14]))\n",
    "\n",
    "    train_set = np.concatenate((np.array(Asthmatic_Male),\n",
    "                                np.array(Asthmatic_Female),\n",
    "                                np.array(Healthy_Male),\n",
    "                                np.array(Healthy_Female)))\n",
    "    train_set = np.setdiff1d(train_set,test_set)\n",
    "    train_set = np.setdiff1d(train_set,cross_validation_set)\n",
    "#     np.array(before_after).shape\n",
    "    train_set = np.concatenate((train_set, np.array(before_after)))\n",
    "    return train_set, cross_validation_set, test_set"
   ]
  },
  {
   "cell_type": "code",
   "execution_count": 75,
   "metadata": {},
   "outputs": [],
   "source": [
    "Cough_dataframe = pd.read_csv(\"./MFCCs_stasts_Csv/Cough.csv\")\n",
    "Wheeze_dataframe = pd.read_csv(\"./MFCCs_stasts_Csv/Wheeze.csv\")"
   ]
  },
  {
   "cell_type": "code",
   "execution_count": 209,
   "metadata": {},
   "outputs": [],
   "source": [
    "# train_test Csv\n",
    "def train_test_crossval_csv(sound_dataframe, Asthmatic_Female, Asthmatic_Male, Healthy_Female, Healthy_Male, before_after):\n",
    "    Train, cross_val, Test = train_test_cross_validation_set(Asthmatic_Female, Asthmatic_Male, Healthy_Female, Healthy_Male, before_after)     \n",
    "\n",
    "    test_dataframe = pd.DataFrame()\n",
    "    for i, line in enumerate(Test):\n",
    "        A = sound_dataframe[(sound_dataframe['73'] == (Test[i]))]\n",
    "        test_dataframe = pd.DataFrame.append(test_dataframe,A)\n",
    "        \n",
    "    crossval_dataframe = pd.DataFrame()\n",
    "    for i, line in enumerate(cross_val):\n",
    "        A = sound_dataframe[(sound_dataframe['73'] == (cross_val[i]))]\n",
    "        crossval_dataframe = pd.DataFrame.append(crossval_dataframe,A)\n",
    "        \n",
    "        \n",
    "    train_dataframe = pd.DataFrame()\n",
    "    for i, line in enumerate(Train):\n",
    "        A = sound_dataframe[(sound_dataframe['73'] == (Train[i]))]\n",
    "        train_dataframe = pd.DataFrame.append(train_dataframe,A) \n",
    "        \n",
    "        \n",
    "    \n",
    "    return shuffle(train_dataframe), shuffle(crossval_dataframe), shuffle(test_dataframe)"
   ]
  },
  {
   "cell_type": "markdown",
   "metadata": {},
   "source": [
    "# Wheeze"
   ]
  },
  {
   "cell_type": "code",
   "execution_count": 210,
   "metadata": {},
   "outputs": [],
   "source": [
    "Total = np.unique(Wheeze_dataframe.iloc[:,73])\n",
    "\n",
    "\n",
    "name = []\n",
    "for i in Total:\n",
    "    name.append(i[:4])\n",
    "\n",
    "unique = []\n",
    "before_after = []\n",
    "for i in Total:\n",
    "    if np.sum((np.array(name, dtype = int) == int(i[:4]))) == 1:\n",
    "        unique.append(i)\n",
    "    else:\n",
    "        before_after.append(i) \n",
    "\n",
    "Asthmatic_Female = []\n",
    "Asthmatic_Male = []\n",
    "Healthy_Male = []\n",
    "Healthy_Female = []\n",
    "for file in unique:\n",
    "    if file.find('sthma') !=-1:\n",
    "        if file.find(\"_M_\")!=-1:\n",
    "            Asthmatic_Male.append(file)\n",
    "        if file.find(\"_F_\")!=-1:\n",
    "            Asthmatic_Female.append(file)\n",
    "    if file.find(\"_C_\")!=-1:\n",
    "        if file.find(\"_M_\")!=-1:\n",
    "            Healthy_Male.append(file)\n",
    "        if file.find(\"_F_\")!=-1:\n",
    "            Healthy_Female.append(file)"
   ]
  },
  {
   "cell_type": "code",
   "execution_count": null,
   "metadata": {},
   "outputs": [],
   "source": []
  },
  {
   "cell_type": "markdown",
   "metadata": {},
   "source": [
    "Total = 188 \n",
    "Female = 80\n",
    "Male = 102\n",
    "Asthmatic_Female = 46\n",
    "Asthmatic_Male = 60\n",
    "Healthy_Female = 34\n",
    "Healthy_Male = 42\n",
    "\n",
    "### Training set\n",
    "Female/male ratio = \n",
    "Asthmatic/Non_Astmatic =\n",
    "Asthmatic_Female/Asthmatic_Male = \n",
    "\n",
    "### Test Set \n",
    "Female/male Ratio\n",
    "Asthmatic/"
   ]
  },
  {
   "cell_type": "code",
   "execution_count": null,
   "metadata": {},
   "outputs": [],
   "source": [
    "# for i in range(0,10):\n",
    "#     train_csv, cross_csv, test_csv = train_test_crossval_csv(Wheeze_dataframe, Asthmatic_Female, Asthmatic_Male, Healthy_Female, Healthy_Male, before_after)\n",
    "#     train_csv.to_csv('./Wheeze_sets/train'+str(i)+'.csv', index=False)\n",
    "#     test_csv.to_csv('./Wheeze_sets/test'+str(i)+'.csv', index=False)\n",
    "#     cross_csv.to_csv('./Wheeze_sets/cross'+str(i)+'.csv', index=False)\n",
    "    "
   ]
  },
  {
   "cell_type": "code",
   "execution_count": 221,
   "metadata": {},
   "outputs": [],
   "source": [
    "model = XGBClassifier(max_deapth = 4,\n",
    "                     subsample = 0.8,\n",
    "                     learning_rate = 0.01,\n",
    "                     n_estimators = 250,\n",
    "                     min_child_weight = 2)"
   ]
  },
  {
   "cell_type": "code",
   "execution_count": 222,
   "metadata": {
    "collapsed": true
   },
   "outputs": [
    {
     "name": "stdout",
     "output_type": "stream",
     "text": [
      "[15:43:40] WARNING: ../src/learner.cc:541: \n",
      "Parameters: { max_deapth } might not be used.\n",
      "\n",
      "  This may not be accurate due to some parameters are only used in language bindings but\n",
      "  passed down to XGBoost core.  Or some parameters are not used but slip through this\n",
      "  verification. Please open an issue if you find above cases.\n",
      "\n",
      "\n",
      "[15:43:40] WARNING: ../src/learner.cc:1061: Starting in XGBoost 1.3.0, the default evaluation metric used with the objective 'binary:logistic' was changed from 'error' to 'logloss'. Explicitly set eval_metric if you'd like to restore the old behavior.\n",
      "[15:43:41] WARNING: ../src/learner.cc:541: \n",
      "Parameters: { max_deapth } might not be used.\n",
      "\n",
      "  This may not be accurate due to some parameters are only used in language bindings but\n",
      "  passed down to XGBoost core.  Or some parameters are not used but slip through this\n",
      "  verification. Please open an issue if you find above cases.\n",
      "\n",
      "\n",
      "[15:43:41] WARNING: ../src/learner.cc:1061: Starting in XGBoost 1.3.0, the default evaluation metric used with the objective 'binary:logistic' was changed from 'error' to 'logloss'. Explicitly set eval_metric if you'd like to restore the old behavior.\n",
      "[15:43:42] WARNING: ../src/learner.cc:541: \n",
      "Parameters: { max_deapth } might not be used.\n",
      "\n",
      "  This may not be accurate due to some parameters are only used in language bindings but\n",
      "  passed down to XGBoost core.  Or some parameters are not used but slip through this\n",
      "  verification. Please open an issue if you find above cases.\n",
      "\n",
      "\n",
      "[15:43:42] WARNING: ../src/learner.cc:1061: Starting in XGBoost 1.3.0, the default evaluation metric used with the objective 'binary:logistic' was changed from 'error' to 'logloss'. Explicitly set eval_metric if you'd like to restore the old behavior.\n",
      "[15:43:43] WARNING: ../src/learner.cc:541: \n",
      "Parameters: { max_deapth } might not be used.\n",
      "\n",
      "  This may not be accurate due to some parameters are only used in language bindings but\n",
      "  passed down to XGBoost core.  Or some parameters are not used but slip through this\n",
      "  verification. Please open an issue if you find above cases.\n",
      "\n",
      "\n",
      "[15:43:43] WARNING: ../src/learner.cc:1061: Starting in XGBoost 1.3.0, the default evaluation metric used with the objective 'binary:logistic' was changed from 'error' to 'logloss'. Explicitly set eval_metric if you'd like to restore the old behavior.\n",
      "[15:43:44] WARNING: ../src/learner.cc:541: \n",
      "Parameters: { max_deapth } might not be used.\n",
      "\n",
      "  This may not be accurate due to some parameters are only used in language bindings but\n",
      "  passed down to XGBoost core.  Or some parameters are not used but slip through this\n",
      "  verification. Please open an issue if you find above cases.\n",
      "\n",
      "\n",
      "[15:43:44] WARNING: ../src/learner.cc:1061: Starting in XGBoost 1.3.0, the default evaluation metric used with the objective 'binary:logistic' was changed from 'error' to 'logloss'. Explicitly set eval_metric if you'd like to restore the old behavior.\n",
      "[15:43:45] WARNING: ../src/learner.cc:541: \n",
      "Parameters: { max_deapth } might not be used.\n",
      "\n",
      "  This may not be accurate due to some parameters are only used in language bindings but\n",
      "  passed down to XGBoost core.  Or some parameters are not used but slip through this\n",
      "  verification. Please open an issue if you find above cases.\n",
      "\n",
      "\n",
      "[15:43:45] WARNING: ../src/learner.cc:1061: Starting in XGBoost 1.3.0, the default evaluation metric used with the objective 'binary:logistic' was changed from 'error' to 'logloss'. Explicitly set eval_metric if you'd like to restore the old behavior.\n",
      "[15:43:46] WARNING: ../src/learner.cc:541: \n",
      "Parameters: { max_deapth } might not be used.\n",
      "\n",
      "  This may not be accurate due to some parameters are only used in language bindings but\n",
      "  passed down to XGBoost core.  Or some parameters are not used but slip through this\n",
      "  verification. Please open an issue if you find above cases.\n",
      "\n",
      "\n",
      "[15:43:46] WARNING: ../src/learner.cc:1061: Starting in XGBoost 1.3.0, the default evaluation metric used with the objective 'binary:logistic' was changed from 'error' to 'logloss'. Explicitly set eval_metric if you'd like to restore the old behavior.\n",
      "[15:43:46] WARNING: ../src/learner.cc:541: \n",
      "Parameters: { max_deapth } might not be used.\n",
      "\n",
      "  This may not be accurate due to some parameters are only used in language bindings but\n",
      "  passed down to XGBoost core.  Or some parameters are not used but slip through this\n",
      "  verification. Please open an issue if you find above cases.\n",
      "\n",
      "\n",
      "[15:43:46] WARNING: ../src/learner.cc:1061: Starting in XGBoost 1.3.0, the default evaluation metric used with the objective 'binary:logistic' was changed from 'error' to 'logloss'. Explicitly set eval_metric if you'd like to restore the old behavior.\n",
      "[15:43:47] WARNING: ../src/learner.cc:541: \n",
      "Parameters: { max_deapth } might not be used.\n",
      "\n",
      "  This may not be accurate due to some parameters are only used in language bindings but\n",
      "  passed down to XGBoost core.  Or some parameters are not used but slip through this\n",
      "  verification. Please open an issue if you find above cases.\n",
      "\n",
      "\n",
      "[15:43:47] WARNING: ../src/learner.cc:1061: Starting in XGBoost 1.3.0, the default evaluation metric used with the objective 'binary:logistic' was changed from 'error' to 'logloss'. Explicitly set eval_metric if you'd like to restore the old behavior.\n",
      "[15:43:48] WARNING: ../src/learner.cc:541: \n",
      "Parameters: { max_deapth } might not be used.\n",
      "\n",
      "  This may not be accurate due to some parameters are only used in language bindings but\n",
      "  passed down to XGBoost core.  Or some parameters are not used but slip through this\n",
      "  verification. Please open an issue if you find above cases.\n",
      "\n",
      "\n",
      "[15:43:48] WARNING: ../src/learner.cc:1061: Starting in XGBoost 1.3.0, the default evaluation metric used with the objective 'binary:logistic' was changed from 'error' to 'logloss'. Explicitly set eval_metric if you'd like to restore the old behavior.\n"
     ]
    }
   ],
   "source": [
    "test = []\n",
    "train = []\n",
    "cross_val = []\n",
    "for i in range(0,10):\n",
    "    train_csv, crossval_csv, test_csv = pd.read_csv('./Wheeze_sets/train'+ str(i) + '.csv'), pd.read_csv('./Wheeze_sets/cross'+ str(i) + '.csv'), pd.read_csv('./Wheeze_sets/test'+ str(i) + '.csv')\n",
    "    X_train = train_csv.iloc[:,:72]\n",
    "    y_train = train_csv.iloc[:,72]\n",
    "    X_crossval = crossval_csv.iloc[:,:72]\n",
    "    y_crossval = crossval_csv.iloc[:,72]\n",
    "    X_test = test_csv.iloc[:,:72]\n",
    "    y_test = test_csv.iloc[:,72]\n",
    "    #Scaling\n",
    "    scaler = StandardScaler()\n",
    "    X_train = scaler.fit_transform(X_train)\n",
    "    X_crossval = scaler.transform(X_crossval)\n",
    "    X_test = scaler.transform(X_test)\n",
    "    X_train = pd.DataFrame(X_train)\n",
    "    X_crossval = pd.DataFrame(X_crossval)\n",
    "    X_test = pd.DataFrame(X_test)\n",
    "    \n",
    "    model.fit(X_train,y_train)\n",
    "    test.append(metrics.accuracy_score(y_test,model.predict(X_test)))\n",
    "    cross_val.append(metrics.accuracy_score(y_crossval,model.predict(X_crossval)))\n",
    "    train.append(metrics.accuracy_score(y_train,model.predict(X_train)))\n",
    "\n",
    "    \n",
    "    \n",
    "test.append(np.mean(test))\n",
    "test.append(np.std(test[:10]))\n",
    "\n",
    "train.append(np.mean(train))\n",
    "train.append(np.std(train[:10]))\n",
    "\n",
    "cross_val.append(np.mean(cross_val))\n",
    "cross_val.append(np.std(cross_val[:10]))\n",
    "\n",
    "\n"
   ]
  },
  {
   "cell_type": "code",
   "execution_count": 223,
   "metadata": {},
   "outputs": [
    {
     "data": {
      "text/html": [
       "<div>\n",
       "<style scoped>\n",
       "    .dataframe tbody tr th:only-of-type {\n",
       "        vertical-align: middle;\n",
       "    }\n",
       "\n",
       "    .dataframe tbody tr th {\n",
       "        vertical-align: top;\n",
       "    }\n",
       "\n",
       "    .dataframe thead th {\n",
       "        text-align: right;\n",
       "    }\n",
       "</style>\n",
       "<table border=\"1\" class=\"dataframe\">\n",
       "  <thead>\n",
       "    <tr style=\"text-align: right;\">\n",
       "      <th></th>\n",
       "      <th>Train</th>\n",
       "      <th>Cross_val</th>\n",
       "      <th>Test</th>\n",
       "    </tr>\n",
       "  </thead>\n",
       "  <tbody>\n",
       "    <tr>\n",
       "      <th>Fold1</th>\n",
       "      <td>0.986726</td>\n",
       "      <td>0.766234</td>\n",
       "      <td>0.888889</td>\n",
       "    </tr>\n",
       "    <tr>\n",
       "      <th>Fold2</th>\n",
       "      <td>0.984726</td>\n",
       "      <td>0.824701</td>\n",
       "      <td>0.807229</td>\n",
       "    </tr>\n",
       "    <tr>\n",
       "      <th>Fold3</th>\n",
       "      <td>0.997396</td>\n",
       "      <td>0.782051</td>\n",
       "      <td>0.740088</td>\n",
       "    </tr>\n",
       "    <tr>\n",
       "      <th>Fold4</th>\n",
       "      <td>0.986523</td>\n",
       "      <td>0.857708</td>\n",
       "      <td>0.842105</td>\n",
       "    </tr>\n",
       "    <tr>\n",
       "      <th>Fold5</th>\n",
       "      <td>0.991150</td>\n",
       "      <td>0.958333</td>\n",
       "      <td>0.867580</td>\n",
       "    </tr>\n",
       "    <tr>\n",
       "      <th>Fold6</th>\n",
       "      <td>0.989474</td>\n",
       "      <td>0.843373</td>\n",
       "      <td>0.816964</td>\n",
       "    </tr>\n",
       "    <tr>\n",
       "      <th>Fold7</th>\n",
       "      <td>0.990317</td>\n",
       "      <td>0.905172</td>\n",
       "      <td>0.791837</td>\n",
       "    </tr>\n",
       "    <tr>\n",
       "      <th>Fold8</th>\n",
       "      <td>0.991228</td>\n",
       "      <td>0.818182</td>\n",
       "      <td>0.818182</td>\n",
       "    </tr>\n",
       "    <tr>\n",
       "      <th>Fold9</th>\n",
       "      <td>0.989343</td>\n",
       "      <td>0.866935</td>\n",
       "      <td>0.941423</td>\n",
       "    </tr>\n",
       "    <tr>\n",
       "      <th>Fold10</th>\n",
       "      <td>0.986655</td>\n",
       "      <td>0.912548</td>\n",
       "      <td>0.871681</td>\n",
       "    </tr>\n",
       "    <tr>\n",
       "      <th>Mean</th>\n",
       "      <td>0.989354</td>\n",
       "      <td>0.853524</td>\n",
       "      <td>0.838598</td>\n",
       "    </tr>\n",
       "    <tr>\n",
       "      <th>STD</th>\n",
       "      <td>0.003406</td>\n",
       "      <td>0.056784</td>\n",
       "      <td>0.053674</td>\n",
       "    </tr>\n",
       "  </tbody>\n",
       "</table>\n",
       "</div>"
      ],
      "text/plain": [
       "           Train  Cross_val      Test\n",
       "Fold1   0.986726   0.766234  0.888889\n",
       "Fold2   0.984726   0.824701  0.807229\n",
       "Fold3   0.997396   0.782051  0.740088\n",
       "Fold4   0.986523   0.857708  0.842105\n",
       "Fold5   0.991150   0.958333  0.867580\n",
       "Fold6   0.989474   0.843373  0.816964\n",
       "Fold7   0.990317   0.905172  0.791837\n",
       "Fold8   0.991228   0.818182  0.818182\n",
       "Fold9   0.989343   0.866935  0.941423\n",
       "Fold10  0.986655   0.912548  0.871681\n",
       "Mean    0.989354   0.853524  0.838598\n",
       "STD     0.003406   0.056784  0.053674"
      ]
     },
     "execution_count": 223,
     "metadata": {},
     "output_type": "execute_result"
    }
   ],
   "source": [
    "pd.DataFrame(np.concatenate((np.array(train).reshape(12,1),np.array(cross_val).reshape(12,1), np.array(test).reshape(12,1)), axis = 1), index=['Fold1','Fold2','Fold3','Fold4','Fold5','Fold6','Fold7','Fold8','Fold9','Fold10', 'Mean', 'STD'], columns=['Train', 'Cross_val', 'Test'])"
   ]
  },
  {
   "cell_type": "code",
   "execution_count": null,
   "metadata": {},
   "outputs": [],
   "source": []
  },
  {
   "cell_type": "code",
   "execution_count": null,
   "metadata": {},
   "outputs": [],
   "source": []
  },
  {
   "cell_type": "code",
   "execution_count": null,
   "metadata": {},
   "outputs": [],
   "source": []
  },
  {
   "cell_type": "markdown",
   "metadata": {},
   "source": [
    "### XGB"
   ]
  },
  {
   "cell_type": "code",
   "execution_count": 7,
   "metadata": {},
   "outputs": [
    {
     "name": "stdout",
     "output_type": "stream",
     "text": [
      "0.8647342995169082\n"
     ]
    }
   ],
   "source": [
    "# import pickle\n",
    "# filename = 'XGB_model.model'\n",
    "# # pickle.dump(model, open(filename, 'wb'))\n",
    "# # train_csv.to_csv('./Train_XGB.csv', index=False)\n",
    "# # test_csv.to_csv('./Test_XGB.csv', index=False)\n",
    "# # crossval_csv.to_csv('./Cross_XGB.csv', index = False)\n",
    "\n",
    "# # load the model from disk\n",
    "# model = pickle.load(open(filename, 'rb'))\n",
    "# result = model.score(X_test, y_test)\n",
    "# print(result)"
   ]
  },
  {
   "cell_type": "code",
   "execution_count": 11,
   "metadata": {},
   "outputs": [],
   "source": [
    "model = XGBClassifier(max_deapth = 5,\n",
    "                     subsample = 0.8,\n",
    "                     learning_rate = 0.01,\n",
    "                     n_estimators = 250,\n",
    "                     min_child_weight = 2)"
   ]
  },
  {
   "cell_type": "code",
   "execution_count": 8,
   "metadata": {
    "collapsed": true
   },
   "outputs": [
    {
     "name": "stdout",
     "output_type": "stream",
     "text": [
      "[01:06:39] WARNING: ../src/learner.cc:541: \n",
      "Parameters: { max_deapth } might not be used.\n",
      "\n",
      "  This may not be accurate due to some parameters are only used in language bindings but\n",
      "  passed down to XGBoost core.  Or some parameters are not used but slip through this\n",
      "  verification. Please open an issue if you find above cases.\n",
      "\n",
      "\n",
      "[0]\tvalidation_0-auc:0.96421\tvalidation_0-error:0.09246\tvalidation_0-logloss:0.68589\tvalidation_1-auc:0.94595\tvalidation_1-error:0.10638\tvalidation_1-logloss:0.68627\tvalidation_2-auc:0.87787\tvalidation_2-error:0.15459\tvalidation_2-logloss:0.68729\n",
      "[1]\tvalidation_0-auc:0.98320\tvalidation_0-error:0.06614\tvalidation_0-logloss:0.67889\tvalidation_1-auc:0.97735\tvalidation_1-error:0.08511\tvalidation_1-logloss:0.67977\tvalidation_2-auc:0.88590\tvalidation_2-error:0.15459\tvalidation_2-logloss:0.68241\n",
      "[2]\tvalidation_0-auc:0.98732\tvalidation_0-error:0.05477\tvalidation_0-logloss:0.67187\tvalidation_1-auc:0.97977\tvalidation_1-error:0.10638\tvalidation_1-logloss:0.67305\tvalidation_2-auc:0.89029\tvalidation_2-error:0.13043\tvalidation_2-logloss:0.67696\n",
      "[3]\tvalidation_0-auc:0.99110\tvalidation_0-error:0.04836\tvalidation_0-logloss:0.66473\tvalidation_1-auc:0.98903\tvalidation_1-error:0.07092\tvalidation_1-logloss:0.66660\tvalidation_2-auc:0.92040\tvalidation_2-error:0.15459\tvalidation_2-logloss:0.67172\n",
      "[4]\tvalidation_0-auc:0.99021\tvalidation_0-error:0.04836\tvalidation_0-logloss:0.65797\tvalidation_1-auc:0.98551\tvalidation_1-error:0.08511\tvalidation_1-logloss:0.66085\tvalidation_2-auc:0.92708\tvalidation_2-error:0.14493\tvalidation_2-logloss:0.66592\n"
     ]
    },
    {
     "name": "stderr",
     "output_type": "stream",
     "text": [
      "/home/akansh/anaconda3/lib/python3.7/site-packages/xgboost/sklearn.py:888: UserWarning: The use of label encoder in XGBClassifier is deprecated and will be removed in a future release. To remove this warning, do the following: 1) Pass option use_label_encoder=False when constructing XGBClassifier object; and 2) Encode your labels (y) as integers starting with 0, i.e. 0, 1, 2, ..., [num_class - 1].\n",
      "  warnings.warn(label_encoder_deprecation_msg, UserWarning)\n"
     ]
    },
    {
     "name": "stdout",
     "output_type": "stream",
     "text": [
      "[5]\tvalidation_0-auc:0.99037\tvalidation_0-error:0.04552\tvalidation_0-logloss:0.65136\tvalidation_1-auc:0.98430\tvalidation_1-error:0.08511\tvalidation_1-logloss:0.65493\tvalidation_2-auc:0.92409\tvalidation_2-error:0.15459\tvalidation_2-logloss:0.66103\n",
      "[6]\tvalidation_0-auc:0.99064\tvalidation_0-error:0.04196\tvalidation_0-logloss:0.64487\tvalidation_1-auc:0.98188\tvalidation_1-error:0.08511\tvalidation_1-logloss:0.64929\tvalidation_2-auc:0.92493\tvalidation_2-error:0.14976\tvalidation_2-logloss:0.65569\n",
      "[7]\tvalidation_0-auc:0.99126\tvalidation_0-error:0.04481\tvalidation_0-logloss:0.63831\tvalidation_1-auc:0.98712\tvalidation_1-error:0.09929\tvalidation_1-logloss:0.64295\tvalidation_2-auc:0.92493\tvalidation_2-error:0.13527\tvalidation_2-logloss:0.65060\n",
      "[8]\tvalidation_0-auc:0.99184\tvalidation_0-error:0.04623\tvalidation_0-logloss:0.63184\tvalidation_1-auc:0.98712\tvalidation_1-error:0.09220\tvalidation_1-logloss:0.63722\tvalidation_2-auc:0.92208\tvalidation_2-error:0.14010\tvalidation_2-logloss:0.64556\n",
      "[9]\tvalidation_0-auc:0.99216\tvalidation_0-error:0.04552\tvalidation_0-logloss:0.62541\tvalidation_1-auc:0.98490\tvalidation_1-error:0.09220\tvalidation_1-logloss:0.63121\tvalidation_2-auc:0.92218\tvalidation_2-error:0.15459\tvalidation_2-logloss:0.64041\n",
      "[10]\tvalidation_0-auc:0.99247\tvalidation_0-error:0.04552\tvalidation_0-logloss:0.61905\tvalidation_1-auc:0.98752\tvalidation_1-error:0.09220\tvalidation_1-logloss:0.62536\tvalidation_2-auc:0.92012\tvalidation_2-error:0.15459\tvalidation_2-logloss:0.63594\n",
      "[11]\tvalidation_0-auc:0.99235\tvalidation_0-error:0.04552\tvalidation_0-logloss:0.61310\tvalidation_1-auc:0.98692\tvalidation_1-error:0.09929\tvalidation_1-logloss:0.62022\tvalidation_2-auc:0.91639\tvalidation_2-error:0.15459\tvalidation_2-logloss:0.63164\n",
      "[12]\tvalidation_0-auc:0.99255\tvalidation_0-error:0.04694\tvalidation_0-logloss:0.60716\tvalidation_1-auc:0.98953\tvalidation_1-error:0.09929\tvalidation_1-logloss:0.61518\tvalidation_2-auc:0.91779\tvalidation_2-error:0.14976\tvalidation_2-logloss:0.62716\n",
      "[13]\tvalidation_0-auc:0.99243\tvalidation_0-error:0.04481\tvalidation_0-logloss:0.60131\tvalidation_1-auc:0.98893\tvalidation_1-error:0.09220\tvalidation_1-logloss:0.60984\tvalidation_2-auc:0.91639\tvalidation_2-error:0.14976\tvalidation_2-logloss:0.62303\n",
      "[14]\tvalidation_0-auc:0.99202\tvalidation_0-error:0.04623\tvalidation_0-logloss:0.59558\tvalidation_1-auc:0.98692\tvalidation_1-error:0.09929\tvalidation_1-logloss:0.60452\tvalidation_2-auc:0.91947\tvalidation_2-error:0.14493\tvalidation_2-logloss:0.61828\n",
      "[15]\tvalidation_0-auc:0.99215\tvalidation_0-error:0.04267\tvalidation_0-logloss:0.58979\tvalidation_1-auc:0.98833\tvalidation_1-error:0.09220\tvalidation_1-logloss:0.59892\tvalidation_2-auc:0.92003\tvalidation_2-error:0.14493\tvalidation_2-logloss:0.61354\n",
      "[16]\tvalidation_0-auc:0.99226\tvalidation_0-error:0.04267\tvalidation_0-logloss:0.58418\tvalidation_1-auc:0.98812\tvalidation_1-error:0.08511\tvalidation_1-logloss:0.59347\tvalidation_2-auc:0.91891\tvalidation_2-error:0.14493\tvalidation_2-logloss:0.60983\n",
      "[17]\tvalidation_0-auc:0.99237\tvalidation_0-error:0.04054\tvalidation_0-logloss:0.57859\tvalidation_1-auc:0.98732\tvalidation_1-error:0.06383\tvalidation_1-logloss:0.58894\tvalidation_2-auc:0.91863\tvalidation_2-error:0.13527\tvalidation_2-logloss:0.60553\n",
      "[18]\tvalidation_0-auc:0.99264\tvalidation_0-error:0.04054\tvalidation_0-logloss:0.57293\tvalidation_1-auc:0.98994\tvalidation_1-error:0.06383\tvalidation_1-logloss:0.58312\tvalidation_2-auc:0.92208\tvalidation_2-error:0.13527\tvalidation_2-logloss:0.60158\n",
      "[19]\tvalidation_0-auc:0.99277\tvalidation_0-error:0.03912\tvalidation_0-logloss:0.56771\tvalidation_1-auc:0.98913\tvalidation_1-error:0.05674\tvalidation_1-logloss:0.57842\tvalidation_2-auc:0.92283\tvalidation_2-error:0.13527\tvalidation_2-logloss:0.59740\n",
      "[20]\tvalidation_0-auc:0.99270\tvalidation_0-error:0.04196\tvalidation_0-logloss:0.56245\tvalidation_1-auc:0.98873\tvalidation_1-error:0.07092\tvalidation_1-logloss:0.57333\tvalidation_2-auc:0.92292\tvalidation_2-error:0.13527\tvalidation_2-logloss:0.59350\n",
      "[21]\tvalidation_0-auc:0.99266\tvalidation_0-error:0.04125\tvalidation_0-logloss:0.55725\tvalidation_1-auc:0.98853\tvalidation_1-error:0.07801\tvalidation_1-logloss:0.56931\tvalidation_2-auc:0.92330\tvalidation_2-error:0.14010\tvalidation_2-logloss:0.58927\n",
      "[22]\tvalidation_0-auc:0.99273\tvalidation_0-error:0.04125\tvalidation_0-logloss:0.55209\tvalidation_1-auc:0.98893\tvalidation_1-error:0.07801\tvalidation_1-logloss:0.56444\tvalidation_2-auc:0.92348\tvalidation_2-error:0.13527\tvalidation_2-logloss:0.58523\n",
      "[23]\tvalidation_0-auc:0.99311\tvalidation_0-error:0.04054\tvalidation_0-logloss:0.54675\tvalidation_1-auc:0.99054\tvalidation_1-error:0.07092\tvalidation_1-logloss:0.56000\tvalidation_2-auc:0.92320\tvalidation_2-error:0.13527\tvalidation_2-logloss:0.58164\n",
      "[24]\tvalidation_0-auc:0.99304\tvalidation_0-error:0.04054\tvalidation_0-logloss:0.54205\tvalidation_1-auc:0.98973\tvalidation_1-error:0.07801\tvalidation_1-logloss:0.55614\tvalidation_2-auc:0.92264\tvalidation_2-error:0.13527\tvalidation_2-logloss:0.57768\n",
      "[25]\tvalidation_0-auc:0.99305\tvalidation_0-error:0.04054\tvalidation_0-logloss:0.53712\tvalidation_1-auc:0.98853\tvalidation_1-error:0.08511\tvalidation_1-logloss:0.55209\tvalidation_2-auc:0.92143\tvalidation_2-error:0.13043\tvalidation_2-logloss:0.57397\n",
      "[26]\tvalidation_0-auc:0.99329\tvalidation_0-error:0.03983\tvalidation_0-logloss:0.53205\tvalidation_1-auc:0.98913\tvalidation_1-error:0.08511\tvalidation_1-logloss:0.54713\tvalidation_2-auc:0.92096\tvalidation_2-error:0.13043\tvalidation_2-logloss:0.56982\n",
      "[27]\tvalidation_0-auc:0.99346\tvalidation_0-error:0.03912\tvalidation_0-logloss:0.52715\tvalidation_1-auc:0.99094\tvalidation_1-error:0.07801\tvalidation_1-logloss:0.54294\tvalidation_2-auc:0.92264\tvalidation_2-error:0.13043\tvalidation_2-logloss:0.56627\n",
      "[28]\tvalidation_0-auc:0.99367\tvalidation_0-error:0.03983\tvalidation_0-logloss:0.52242\tvalidation_1-auc:0.99195\tvalidation_1-error:0.07801\tvalidation_1-logloss:0.53839\tvalidation_2-auc:0.92255\tvalidation_2-error:0.13043\tvalidation_2-logloss:0.56349\n",
      "[29]\tvalidation_0-auc:0.99387\tvalidation_0-error:0.03698\tvalidation_0-logloss:0.51758\tvalidation_1-auc:0.99275\tvalidation_1-error:0.05674\tvalidation_1-logloss:0.53327\tvalidation_2-auc:0.92218\tvalidation_2-error:0.13043\tvalidation_2-logloss:0.56040\n",
      "[30]\tvalidation_0-auc:0.99386\tvalidation_0-error:0.03698\tvalidation_0-logloss:0.51296\tvalidation_1-auc:0.99235\tvalidation_1-error:0.05674\tvalidation_1-logloss:0.52934\tvalidation_2-auc:0.92068\tvalidation_2-error:0.13043\tvalidation_2-logloss:0.55753\n",
      "[31]\tvalidation_0-auc:0.99403\tvalidation_0-error:0.03698\tvalidation_0-logloss:0.50836\tvalidation_1-auc:0.99215\tvalidation_1-error:0.06383\tvalidation_1-logloss:0.52510\tvalidation_2-auc:0.92096\tvalidation_2-error:0.13043\tvalidation_2-logloss:0.55418\n",
      "[32]\tvalidation_0-auc:0.99398\tvalidation_0-error:0.03627\tvalidation_0-logloss:0.50389\tvalidation_1-auc:0.99195\tvalidation_1-error:0.05674\tvalidation_1-logloss:0.52081\tvalidation_2-auc:0.91984\tvalidation_2-error:0.13043\tvalidation_2-logloss:0.55162\n",
      "[33]\tvalidation_0-auc:0.99405\tvalidation_0-error:0.03841\tvalidation_0-logloss:0.49937\tvalidation_1-auc:0.99336\tvalidation_1-error:0.06383\tvalidation_1-logloss:0.51675\tvalidation_2-auc:0.91966\tvalidation_2-error:0.13527\tvalidation_2-logloss:0.54870\n",
      "[34]\tvalidation_0-auc:0.99457\tvalidation_0-error:0.03343\tvalidation_0-logloss:0.49491\tvalidation_1-auc:0.99396\tvalidation_1-error:0.05674\tvalidation_1-logloss:0.51272\tvalidation_2-auc:0.91909\tvalidation_2-error:0.13527\tvalidation_2-logloss:0.54606\n",
      "[35]\tvalidation_0-auc:0.99447\tvalidation_0-error:0.03627\tvalidation_0-logloss:0.49089\tvalidation_1-auc:0.99356\tvalidation_1-error:0.06383\tvalidation_1-logloss:0.51000\tvalidation_2-auc:0.91891\tvalidation_2-error:0.13527\tvalidation_2-logloss:0.54321\n",
      "[36]\tvalidation_0-auc:0.99457\tvalidation_0-error:0.03770\tvalidation_0-logloss:0.48658\tvalidation_1-auc:0.99416\tvalidation_1-error:0.06383\tvalidation_1-logloss:0.50547\tvalidation_2-auc:0.91825\tvalidation_2-error:0.13527\tvalidation_2-logloss:0.54015\n",
      "[37]\tvalidation_0-auc:0.99453\tvalidation_0-error:0.03627\tvalidation_0-logloss:0.48239\tvalidation_1-auc:0.99336\tvalidation_1-error:0.05674\tvalidation_1-logloss:0.50193\tvalidation_2-auc:0.91863\tvalidation_2-error:0.13527\tvalidation_2-logloss:0.53732\n",
      "[38]\tvalidation_0-auc:0.99458\tvalidation_0-error:0.03627\tvalidation_0-logloss:0.47822\tvalidation_1-auc:0.99376\tvalidation_1-error:0.06383\tvalidation_1-logloss:0.49804\tvalidation_2-auc:0.91909\tvalidation_2-error:0.13527\tvalidation_2-logloss:0.53389\n"
     ]
    },
    {
     "name": "stdout",
     "output_type": "stream",
     "text": [
      "[39]\tvalidation_0-auc:0.99476\tvalidation_0-error:0.03698\tvalidation_0-logloss:0.47416\tvalidation_1-auc:0.99316\tvalidation_1-error:0.06383\tvalidation_1-logloss:0.49434\tvalidation_2-auc:0.91900\tvalidation_2-error:0.13527\tvalidation_2-logloss:0.53115\n",
      "[40]\tvalidation_0-auc:0.99473\tvalidation_0-error:0.03627\tvalidation_0-logloss:0.47016\tvalidation_1-auc:0.99396\tvalidation_1-error:0.06383\tvalidation_1-logloss:0.49040\tvalidation_2-auc:0.92003\tvalidation_2-error:0.13527\tvalidation_2-logloss:0.52855\n",
      "[41]\tvalidation_0-auc:0.99483\tvalidation_0-error:0.03627\tvalidation_0-logloss:0.46617\tvalidation_1-auc:0.99477\tvalidation_1-error:0.06383\tvalidation_1-logloss:0.48687\tvalidation_2-auc:0.91956\tvalidation_2-error:0.13527\tvalidation_2-logloss:0.52570\n",
      "[42]\tvalidation_0-auc:0.99504\tvalidation_0-error:0.03556\tvalidation_0-logloss:0.46195\tvalidation_1-auc:0.99517\tvalidation_1-error:0.06383\tvalidation_1-logloss:0.48284\tvalidation_2-auc:0.92124\tvalidation_2-error:0.13527\tvalidation_2-logloss:0.52214\n",
      "[43]\tvalidation_0-auc:0.99523\tvalidation_0-error:0.03485\tvalidation_0-logloss:0.45769\tvalidation_1-auc:0.99537\tvalidation_1-error:0.06383\tvalidation_1-logloss:0.47874\tvalidation_2-auc:0.92143\tvalidation_2-error:0.13527\tvalidation_2-logloss:0.51930\n",
      "[44]\tvalidation_0-auc:0.99546\tvalidation_0-error:0.03485\tvalidation_0-logloss:0.45379\tvalidation_1-auc:0.99618\tvalidation_1-error:0.06383\tvalidation_1-logloss:0.47541\tvalidation_2-auc:0.92180\tvalidation_2-error:0.13527\tvalidation_2-logloss:0.51692\n",
      "[45]\tvalidation_0-auc:0.99543\tvalidation_0-error:0.03556\tvalidation_0-logloss:0.45003\tvalidation_1-auc:0.99597\tvalidation_1-error:0.06383\tvalidation_1-logloss:0.47178\tvalidation_2-auc:0.92180\tvalidation_2-error:0.13527\tvalidation_2-logloss:0.51421\n",
      "[46]\tvalidation_0-auc:0.99546\tvalidation_0-error:0.03485\tvalidation_0-logloss:0.44622\tvalidation_1-auc:0.99577\tvalidation_1-error:0.06383\tvalidation_1-logloss:0.46876\tvalidation_2-auc:0.92115\tvalidation_2-error:0.13527\tvalidation_2-logloss:0.51191\n",
      "[47]\tvalidation_0-auc:0.99552\tvalidation_0-error:0.03485\tvalidation_0-logloss:0.44250\tvalidation_1-auc:0.99557\tvalidation_1-error:0.06383\tvalidation_1-logloss:0.46570\tvalidation_2-auc:0.92059\tvalidation_2-error:0.13527\tvalidation_2-logloss:0.50935\n",
      "[48]\tvalidation_0-auc:0.99564\tvalidation_0-error:0.03272\tvalidation_0-logloss:0.43874\tvalidation_1-auc:0.99577\tvalidation_1-error:0.06383\tvalidation_1-logloss:0.46199\tvalidation_2-auc:0.92078\tvalidation_2-error:0.13527\tvalidation_2-logloss:0.50683\n",
      "[49]\tvalidation_0-auc:0.99575\tvalidation_0-error:0.03129\tvalidation_0-logloss:0.43516\tvalidation_1-auc:0.99557\tvalidation_1-error:0.06383\tvalidation_1-logloss:0.45870\tvalidation_2-auc:0.92073\tvalidation_2-error:0.13527\tvalidation_2-logloss:0.50449\n",
      "[50]\tvalidation_0-auc:0.99579\tvalidation_0-error:0.03201\tvalidation_0-logloss:0.43159\tvalidation_1-auc:0.99618\tvalidation_1-error:0.06383\tvalidation_1-logloss:0.45541\tvalidation_2-auc:0.92166\tvalidation_2-error:0.13043\tvalidation_2-logloss:0.50222\n",
      "[51]\tvalidation_0-auc:0.99583\tvalidation_0-error:0.03272\tvalidation_0-logloss:0.42807\tvalidation_1-auc:0.99678\tvalidation_1-error:0.06383\tvalidation_1-logloss:0.45181\tvalidation_2-auc:0.92175\tvalidation_2-error:0.13527\tvalidation_2-logloss:0.49971\n",
      "[52]\tvalidation_0-auc:0.99585\tvalidation_0-error:0.03343\tvalidation_0-logloss:0.42449\tvalidation_1-auc:0.99658\tvalidation_1-error:0.07092\tvalidation_1-logloss:0.44878\tvalidation_2-auc:0.92157\tvalidation_2-error:0.13527\tvalidation_2-logloss:0.49767\n",
      "[53]\tvalidation_0-auc:0.99584\tvalidation_0-error:0.03129\tvalidation_0-logloss:0.42099\tvalidation_1-auc:0.99678\tvalidation_1-error:0.06383\tvalidation_1-logloss:0.44557\tvalidation_2-auc:0.92110\tvalidation_2-error:0.13527\tvalidation_2-logloss:0.49591\n",
      "[54]\tvalidation_0-auc:0.99598\tvalidation_0-error:0.03129\tvalidation_0-logloss:0.41754\tvalidation_1-auc:0.99678\tvalidation_1-error:0.06383\tvalidation_1-logloss:0.44208\tvalidation_2-auc:0.92082\tvalidation_2-error:0.13043\tvalidation_2-logloss:0.49357\n",
      "[55]\tvalidation_0-auc:0.99611\tvalidation_0-error:0.03058\tvalidation_0-logloss:0.41411\tvalidation_1-auc:0.99718\tvalidation_1-error:0.05674\tvalidation_1-logloss:0.43861\tvalidation_2-auc:0.91980\tvalidation_2-error:0.13043\tvalidation_2-logloss:0.49141\n",
      "[56]\tvalidation_0-auc:0.99614\tvalidation_0-error:0.03129\tvalidation_0-logloss:0.41080\tvalidation_1-auc:0.99658\tvalidation_1-error:0.05674\tvalidation_1-logloss:0.43586\tvalidation_2-auc:0.92073\tvalidation_2-error:0.13043\tvalidation_2-logloss:0.48907\n",
      "[57]\tvalidation_0-auc:0.99623\tvalidation_0-error:0.02987\tvalidation_0-logloss:0.40734\tvalidation_1-auc:0.99678\tvalidation_1-error:0.05674\tvalidation_1-logloss:0.43243\tvalidation_2-auc:0.92194\tvalidation_2-error:0.13043\tvalidation_2-logloss:0.48615\n",
      "[58]\tvalidation_0-auc:0.99624\tvalidation_0-error:0.02987\tvalidation_0-logloss:0.40414\tvalidation_1-auc:0.99718\tvalidation_1-error:0.05674\tvalidation_1-logloss:0.42897\tvalidation_2-auc:0.92138\tvalidation_2-error:0.13043\tvalidation_2-logloss:0.48403\n",
      "[59]\tvalidation_0-auc:0.99630\tvalidation_0-error:0.03129\tvalidation_0-logloss:0.40091\tvalidation_1-auc:0.99799\tvalidation_1-error:0.05674\tvalidation_1-logloss:0.42552\tvalidation_2-auc:0.92101\tvalidation_2-error:0.13043\tvalidation_2-logloss:0.48191\n",
      "[60]\tvalidation_0-auc:0.99635\tvalidation_0-error:0.03058\tvalidation_0-logloss:0.39778\tvalidation_1-auc:0.99819\tvalidation_1-error:0.05674\tvalidation_1-logloss:0.42246\tvalidation_2-auc:0.92036\tvalidation_2-error:0.13043\tvalidation_2-logloss:0.48019\n",
      "[61]\tvalidation_0-auc:0.99638\tvalidation_0-error:0.03058\tvalidation_0-logloss:0.39466\tvalidation_1-auc:0.99839\tvalidation_1-error:0.05674\tvalidation_1-logloss:0.41902\tvalidation_2-auc:0.92175\tvalidation_2-error:0.13527\tvalidation_2-logloss:0.47794\n",
      "[62]\tvalidation_0-auc:0.99640\tvalidation_0-error:0.02987\tvalidation_0-logloss:0.39148\tvalidation_1-auc:0.99879\tvalidation_1-error:0.05674\tvalidation_1-logloss:0.41585\tvalidation_2-auc:0.92148\tvalidation_2-error:0.13527\tvalidation_2-logloss:0.47572\n",
      "[63]\tvalidation_0-auc:0.99649\tvalidation_0-error:0.02987\tvalidation_0-logloss:0.38842\tvalidation_1-auc:0.99859\tvalidation_1-error:0.05674\tvalidation_1-logloss:0.41306\tvalidation_2-auc:0.92129\tvalidation_2-error:0.13043\tvalidation_2-logloss:0.47385\n",
      "[64]\tvalidation_0-auc:0.99660\tvalidation_0-error:0.02987\tvalidation_0-logloss:0.38521\tvalidation_1-auc:0.99899\tvalidation_1-error:0.05674\tvalidation_1-logloss:0.41000\tvalidation_2-auc:0.92222\tvalidation_2-error:0.13527\tvalidation_2-logloss:0.47180\n",
      "[65]\tvalidation_0-auc:0.99664\tvalidation_0-error:0.02987\tvalidation_0-logloss:0.38227\tvalidation_1-auc:0.99899\tvalidation_1-error:0.05674\tvalidation_1-logloss:0.40745\tvalidation_2-auc:0.92185\tvalidation_2-error:0.13043\tvalidation_2-logloss:0.46957\n",
      "[66]\tvalidation_0-auc:0.99667\tvalidation_0-error:0.03058\tvalidation_0-logloss:0.37936\tvalidation_1-auc:0.99879\tvalidation_1-error:0.05674\tvalidation_1-logloss:0.40460\tvalidation_2-auc:0.92250\tvalidation_2-error:0.13043\tvalidation_2-logloss:0.46715\n",
      "[67]\tvalidation_0-auc:0.99684\tvalidation_0-error:0.02774\tvalidation_0-logloss:0.37627\tvalidation_1-auc:0.99899\tvalidation_1-error:0.05674\tvalidation_1-logloss:0.40137\tvalidation_2-auc:0.92232\tvalidation_2-error:0.13043\tvalidation_2-logloss:0.46572\n",
      "[68]\tvalidation_0-auc:0.99688\tvalidation_0-error:0.02845\tvalidation_0-logloss:0.37342\tvalidation_1-auc:0.99899\tvalidation_1-error:0.05674\tvalidation_1-logloss:0.39868\tvalidation_2-auc:0.92260\tvalidation_2-error:0.13043\tvalidation_2-logloss:0.46393\n",
      "[69]\tvalidation_0-auc:0.99695\tvalidation_0-error:0.02845\tvalidation_0-logloss:0.37056\tvalidation_1-auc:0.99940\tvalidation_1-error:0.05674\tvalidation_1-logloss:0.39588\tvalidation_2-auc:0.92241\tvalidation_2-error:0.13527\tvalidation_2-logloss:0.46224\n",
      "[70]\tvalidation_0-auc:0.99697\tvalidation_0-error:0.02845\tvalidation_0-logloss:0.36764\tvalidation_1-auc:0.99940\tvalidation_1-error:0.05674\tvalidation_1-logloss:0.39362\tvalidation_2-auc:0.92227\tvalidation_2-error:0.13043\tvalidation_2-logloss:0.46045\n",
      "[71]\tvalidation_0-auc:0.99706\tvalidation_0-error:0.02916\tvalidation_0-logloss:0.36476\tvalidation_1-auc:0.99960\tvalidation_1-error:0.05674\tvalidation_1-logloss:0.39079\tvalidation_2-auc:0.92395\tvalidation_2-error:0.13527\tvalidation_2-logloss:0.45887\n",
      "[72]\tvalidation_0-auc:0.99709\tvalidation_0-error:0.02774\tvalidation_0-logloss:0.36194\tvalidation_1-auc:0.99960\tvalidation_1-error:0.05674\tvalidation_1-logloss:0.38796\tvalidation_2-auc:0.92451\tvalidation_2-error:0.13527\tvalidation_2-logloss:0.45712\n"
     ]
    },
    {
     "name": "stdout",
     "output_type": "stream",
     "text": [
      "[73]\tvalidation_0-auc:0.99715\tvalidation_0-error:0.02703\tvalidation_0-logloss:0.35916\tvalidation_1-auc:0.99940\tvalidation_1-error:0.05674\tvalidation_1-logloss:0.38540\tvalidation_2-auc:0.92376\tvalidation_2-error:0.13527\tvalidation_2-logloss:0.45597\n",
      "[74]\tvalidation_0-auc:0.99719\tvalidation_0-error:0.02774\tvalidation_0-logloss:0.35637\tvalidation_1-auc:0.99980\tvalidation_1-error:0.05674\tvalidation_1-logloss:0.38266\tvalidation_2-auc:0.92404\tvalidation_2-error:0.13527\tvalidation_2-logloss:0.45445\n",
      "[75]\tvalidation_0-auc:0.99718\tvalidation_0-error:0.02845\tvalidation_0-logloss:0.35359\tvalidation_1-auc:0.99980\tvalidation_1-error:0.05674\tvalidation_1-logloss:0.37955\tvalidation_2-auc:0.92395\tvalidation_2-error:0.13527\tvalidation_2-logloss:0.45280\n",
      "[76]\tvalidation_0-auc:0.99719\tvalidation_0-error:0.02916\tvalidation_0-logloss:0.35093\tvalidation_1-auc:0.99980\tvalidation_1-error:0.05674\tvalidation_1-logloss:0.37685\tvalidation_2-auc:0.92460\tvalidation_2-error:0.13527\tvalidation_2-logloss:0.45066\n",
      "[77]\tvalidation_0-auc:0.99721\tvalidation_0-error:0.02845\tvalidation_0-logloss:0.34825\tvalidation_1-auc:0.99980\tvalidation_1-error:0.05674\tvalidation_1-logloss:0.37417\tvalidation_2-auc:0.92451\tvalidation_2-error:0.13527\tvalidation_2-logloss:0.44928\n",
      "[78]\tvalidation_0-auc:0.99722\tvalidation_0-error:0.02845\tvalidation_0-logloss:0.34578\tvalidation_1-auc:0.99980\tvalidation_1-error:0.05674\tvalidation_1-logloss:0.37196\tvalidation_2-auc:0.92554\tvalidation_2-error:0.13527\tvalidation_2-logloss:0.44746\n",
      "[79]\tvalidation_0-auc:0.99721\tvalidation_0-error:0.02845\tvalidation_0-logloss:0.34308\tvalidation_1-auc:0.99980\tvalidation_1-error:0.05674\tvalidation_1-logloss:0.36898\tvalidation_2-auc:0.92554\tvalidation_2-error:0.13527\tvalidation_2-logloss:0.44571\n",
      "[80]\tvalidation_0-auc:0.99726\tvalidation_0-error:0.02774\tvalidation_0-logloss:0.34062\tvalidation_1-auc:0.99980\tvalidation_1-error:0.05674\tvalidation_1-logloss:0.36664\tvalidation_2-auc:0.92507\tvalidation_2-error:0.13527\tvalidation_2-logloss:0.44411\n",
      "[81]\tvalidation_0-auc:0.99728\tvalidation_0-error:0.02774\tvalidation_0-logloss:0.33818\tvalidation_1-auc:0.99980\tvalidation_1-error:0.05674\tvalidation_1-logloss:0.36443\tvalidation_2-auc:0.92442\tvalidation_2-error:0.13527\tvalidation_2-logloss:0.44277\n",
      "[82]\tvalidation_0-auc:0.99730\tvalidation_0-error:0.02703\tvalidation_0-logloss:0.33572\tvalidation_1-auc:0.99980\tvalidation_1-error:0.05674\tvalidation_1-logloss:0.36223\tvalidation_2-auc:0.92577\tvalidation_2-error:0.13527\tvalidation_2-logloss:0.44182\n",
      "[83]\tvalidation_0-auc:0.99740\tvalidation_0-error:0.02632\tvalidation_0-logloss:0.33327\tvalidation_1-auc:0.99980\tvalidation_1-error:0.05674\tvalidation_1-logloss:0.35999\tvalidation_2-auc:0.92558\tvalidation_2-error:0.13527\tvalidation_2-logloss:0.44078\n",
      "[84]\tvalidation_0-auc:0.99739\tvalidation_0-error:0.02632\tvalidation_0-logloss:0.33102\tvalidation_1-auc:0.99980\tvalidation_1-error:0.05674\tvalidation_1-logloss:0.35751\tvalidation_2-auc:0.92521\tvalidation_2-error:0.13527\tvalidation_2-logloss:0.43998\n",
      "[85]\tvalidation_0-auc:0.99748\tvalidation_0-error:0.02347\tvalidation_0-logloss:0.32860\tvalidation_1-auc:0.99980\tvalidation_1-error:0.03546\tvalidation_1-logloss:0.35502\tvalidation_2-auc:0.92521\tvalidation_2-error:0.13527\tvalidation_2-logloss:0.43916\n",
      "[86]\tvalidation_0-auc:0.99753\tvalidation_0-error:0.02347\tvalidation_0-logloss:0.32638\tvalidation_1-auc:0.99980\tvalidation_1-error:0.03546\tvalidation_1-logloss:0.35286\tvalidation_2-auc:0.92502\tvalidation_2-error:0.13527\tvalidation_2-logloss:0.43815\n",
      "[87]\tvalidation_0-auc:0.99755\tvalidation_0-error:0.02205\tvalidation_0-logloss:0.32393\tvalidation_1-auc:0.99980\tvalidation_1-error:0.02128\tvalidation_1-logloss:0.35004\tvalidation_2-auc:0.92502\tvalidation_2-error:0.13527\tvalidation_2-logloss:0.43680\n",
      "[88]\tvalidation_0-auc:0.99765\tvalidation_0-error:0.02205\tvalidation_0-logloss:0.32146\tvalidation_1-auc:0.99980\tvalidation_1-error:0.02128\tvalidation_1-logloss:0.34743\tvalidation_2-auc:0.92493\tvalidation_2-error:0.13527\tvalidation_2-logloss:0.43576\n",
      "[89]\tvalidation_0-auc:0.99769\tvalidation_0-error:0.02134\tvalidation_0-logloss:0.31900\tvalidation_1-auc:0.99980\tvalidation_1-error:0.02128\tvalidation_1-logloss:0.34517\tvalidation_2-auc:0.92521\tvalidation_2-error:0.13527\tvalidation_2-logloss:0.43426\n",
      "[90]\tvalidation_0-auc:0.99771\tvalidation_0-error:0.02134\tvalidation_0-logloss:0.31664\tvalidation_1-auc:0.99980\tvalidation_1-error:0.02128\tvalidation_1-logloss:0.34269\tvalidation_2-auc:0.92666\tvalidation_2-error:0.13527\tvalidation_2-logloss:0.43290\n",
      "[91]\tvalidation_0-auc:0.99774\tvalidation_0-error:0.02205\tvalidation_0-logloss:0.31433\tvalidation_1-auc:0.99980\tvalidation_1-error:0.02837\tvalidation_1-logloss:0.34107\tvalidation_2-auc:0.92656\tvalidation_2-error:0.13527\tvalidation_2-logloss:0.43153\n",
      "[92]\tvalidation_0-auc:0.99772\tvalidation_0-error:0.02205\tvalidation_0-logloss:0.31231\tvalidation_1-auc:0.99980\tvalidation_1-error:0.02837\tvalidation_1-logloss:0.33942\tvalidation_2-auc:0.92792\tvalidation_2-error:0.13527\tvalidation_2-logloss:0.43002\n",
      "[93]\tvalidation_0-auc:0.99771\tvalidation_0-error:0.02205\tvalidation_0-logloss:0.31016\tvalidation_1-auc:0.99980\tvalidation_1-error:0.02837\tvalidation_1-logloss:0.33783\tvalidation_2-auc:0.92871\tvalidation_2-error:0.13527\tvalidation_2-logloss:0.42875\n",
      "[94]\tvalidation_0-auc:0.99777\tvalidation_0-error:0.02063\tvalidation_0-logloss:0.30790\tvalidation_1-auc:0.99980\tvalidation_1-error:0.02128\tvalidation_1-logloss:0.33567\tvalidation_2-auc:0.92871\tvalidation_2-error:0.13527\tvalidation_2-logloss:0.42797\n",
      "[95]\tvalidation_0-auc:0.99784\tvalidation_0-error:0.02134\tvalidation_0-logloss:0.30566\tvalidation_1-auc:0.99980\tvalidation_1-error:0.02837\tvalidation_1-logloss:0.33364\tvalidation_2-auc:0.92899\tvalidation_2-error:0.13527\tvalidation_2-logloss:0.42734\n",
      "[96]\tvalidation_0-auc:0.99790\tvalidation_0-error:0.01991\tvalidation_0-logloss:0.30356\tvalidation_1-auc:0.99980\tvalidation_1-error:0.02128\tvalidation_1-logloss:0.33153\tvalidation_2-auc:0.92740\tvalidation_2-error:0.13527\tvalidation_2-logloss:0.42653\n",
      "[97]\tvalidation_0-auc:0.99795\tvalidation_0-error:0.01991\tvalidation_0-logloss:0.30145\tvalidation_1-auc:0.99980\tvalidation_1-error:0.02128\tvalidation_1-logloss:0.32935\tvalidation_2-auc:0.92750\tvalidation_2-error:0.13527\tvalidation_2-logloss:0.42535\n",
      "[98]\tvalidation_0-auc:0.99796\tvalidation_0-error:0.01991\tvalidation_0-logloss:0.29922\tvalidation_1-auc:0.99980\tvalidation_1-error:0.02837\tvalidation_1-logloss:0.32713\tvalidation_2-auc:0.92740\tvalidation_2-error:0.13527\tvalidation_2-logloss:0.42442\n",
      "[99]\tvalidation_0-auc:0.99801\tvalidation_0-error:0.01920\tvalidation_0-logloss:0.29707\tvalidation_1-auc:0.99980\tvalidation_1-error:0.02128\tvalidation_1-logloss:0.32511\tvalidation_2-auc:0.92740\tvalidation_2-error:0.13527\tvalidation_2-logloss:0.42373\n",
      "[100]\tvalidation_0-auc:0.99802\tvalidation_0-error:0.01849\tvalidation_0-logloss:0.29506\tvalidation_1-auc:0.99980\tvalidation_1-error:0.02837\tvalidation_1-logloss:0.32328\tvalidation_2-auc:0.92722\tvalidation_2-error:0.13527\tvalidation_2-logloss:0.42324\n",
      "[101]\tvalidation_0-auc:0.99802\tvalidation_0-error:0.01920\tvalidation_0-logloss:0.29311\tvalidation_1-auc:1.00000\tvalidation_1-error:0.02837\tvalidation_1-logloss:0.32163\tvalidation_2-auc:0.92792\tvalidation_2-error:0.13527\tvalidation_2-logloss:0.42239\n",
      "[102]\tvalidation_0-auc:0.99808\tvalidation_0-error:0.01849\tvalidation_0-logloss:0.29091\tvalidation_1-auc:1.00000\tvalidation_1-error:0.02128\tvalidation_1-logloss:0.31881\tvalidation_2-auc:0.92792\tvalidation_2-error:0.13527\tvalidation_2-logloss:0.42151\n",
      "[103]\tvalidation_0-auc:0.99813\tvalidation_0-error:0.01849\tvalidation_0-logloss:0.28886\tvalidation_1-auc:1.00000\tvalidation_1-error:0.02128\tvalidation_1-logloss:0.31688\tvalidation_2-auc:0.92773\tvalidation_2-error:0.13527\tvalidation_2-logloss:0.42059\n",
      "[104]\tvalidation_0-auc:0.99812\tvalidation_0-error:0.01778\tvalidation_0-logloss:0.28675\tvalidation_1-auc:1.00000\tvalidation_1-error:0.02128\tvalidation_1-logloss:0.31458\tvalidation_2-auc:0.92839\tvalidation_2-error:0.13527\tvalidation_2-logloss:0.41907\n",
      "[105]\tvalidation_0-auc:0.99812\tvalidation_0-error:0.01778\tvalidation_0-logloss:0.28486\tvalidation_1-auc:1.00000\tvalidation_1-error:0.02128\tvalidation_1-logloss:0.31264\tvalidation_2-auc:0.92820\tvalidation_2-error:0.13527\tvalidation_2-logloss:0.41830\n",
      "[106]\tvalidation_0-auc:0.99816\tvalidation_0-error:0.01778\tvalidation_0-logloss:0.28285\tvalidation_1-auc:1.00000\tvalidation_1-error:0.02128\tvalidation_1-logloss:0.31067\tvalidation_2-auc:0.92792\tvalidation_2-error:0.13527\tvalidation_2-logloss:0.41776\n"
     ]
    },
    {
     "name": "stdout",
     "output_type": "stream",
     "text": [
      "[107]\tvalidation_0-auc:0.99819\tvalidation_0-error:0.01778\tvalidation_0-logloss:0.28089\tvalidation_1-auc:1.00000\tvalidation_1-error:0.02128\tvalidation_1-logloss:0.30860\tvalidation_2-auc:0.92717\tvalidation_2-error:0.13527\tvalidation_2-logloss:0.41717\n",
      "[108]\tvalidation_0-auc:0.99818\tvalidation_0-error:0.01778\tvalidation_0-logloss:0.27898\tvalidation_1-auc:1.00000\tvalidation_1-error:0.02128\tvalidation_1-logloss:0.30676\tvalidation_2-auc:0.92680\tvalidation_2-error:0.13527\tvalidation_2-logloss:0.41622\n",
      "[109]\tvalidation_0-auc:0.99824\tvalidation_0-error:0.01778\tvalidation_0-logloss:0.27716\tvalidation_1-auc:1.00000\tvalidation_1-error:0.02128\tvalidation_1-logloss:0.30474\tvalidation_2-auc:0.92638\tvalidation_2-error:0.13527\tvalidation_2-logloss:0.41564\n",
      "[110]\tvalidation_0-auc:0.99822\tvalidation_0-error:0.01707\tvalidation_0-logloss:0.27517\tvalidation_1-auc:1.00000\tvalidation_1-error:0.02128\tvalidation_1-logloss:0.30269\tvalidation_2-auc:0.92754\tvalidation_2-error:0.13527\tvalidation_2-logloss:0.41435\n",
      "[111]\tvalidation_0-auc:0.99825\tvalidation_0-error:0.01707\tvalidation_0-logloss:0.27326\tvalidation_1-auc:1.00000\tvalidation_1-error:0.02128\tvalidation_1-logloss:0.30072\tvalidation_2-auc:0.92698\tvalidation_2-error:0.13527\tvalidation_2-logloss:0.41371\n",
      "[112]\tvalidation_0-auc:0.99826\tvalidation_0-error:0.01636\tvalidation_0-logloss:0.27142\tvalidation_1-auc:1.00000\tvalidation_1-error:0.02128\tvalidation_1-logloss:0.29911\tvalidation_2-auc:0.92708\tvalidation_2-error:0.13527\tvalidation_2-logloss:0.41277\n",
      "[113]\tvalidation_0-auc:0.99829\tvalidation_0-error:0.01636\tvalidation_0-logloss:0.26955\tvalidation_1-auc:1.00000\tvalidation_1-error:0.01418\tvalidation_1-logloss:0.29697\tvalidation_2-auc:0.92661\tvalidation_2-error:0.13527\tvalidation_2-logloss:0.41233\n",
      "[114]\tvalidation_0-auc:0.99830\tvalidation_0-error:0.01636\tvalidation_0-logloss:0.26769\tvalidation_1-auc:1.00000\tvalidation_1-error:0.02128\tvalidation_1-logloss:0.29553\tvalidation_2-auc:0.92624\tvalidation_2-error:0.13527\tvalidation_2-logloss:0.41146\n",
      "[115]\tvalidation_0-auc:0.99831\tvalidation_0-error:0.01707\tvalidation_0-logloss:0.26589\tvalidation_1-auc:1.00000\tvalidation_1-error:0.02128\tvalidation_1-logloss:0.29391\tvalidation_2-auc:0.92586\tvalidation_2-error:0.13527\tvalidation_2-logloss:0.41076\n",
      "[116]\tvalidation_0-auc:0.99831\tvalidation_0-error:0.01636\tvalidation_0-logloss:0.26411\tvalidation_1-auc:1.00000\tvalidation_1-error:0.02128\tvalidation_1-logloss:0.29234\tvalidation_2-auc:0.92568\tvalidation_2-error:0.13527\tvalidation_2-logloss:0.40987\n",
      "[117]\tvalidation_0-auc:0.99832\tvalidation_0-error:0.01565\tvalidation_0-logloss:0.26234\tvalidation_1-auc:1.00000\tvalidation_1-error:0.02128\tvalidation_1-logloss:0.29054\tvalidation_2-auc:0.92558\tvalidation_2-error:0.13527\tvalidation_2-logloss:0.40914\n",
      "[118]\tvalidation_0-auc:0.99835\tvalidation_0-error:0.01494\tvalidation_0-logloss:0.26054\tvalidation_1-auc:1.00000\tvalidation_1-error:0.01418\tvalidation_1-logloss:0.28871\tvalidation_2-auc:0.92502\tvalidation_2-error:0.13527\tvalidation_2-logloss:0.40837\n",
      "[119]\tvalidation_0-auc:0.99840\tvalidation_0-error:0.01494\tvalidation_0-logloss:0.25882\tvalidation_1-auc:1.00000\tvalidation_1-error:0.01418\tvalidation_1-logloss:0.28746\tvalidation_2-auc:0.92437\tvalidation_2-error:0.13527\tvalidation_2-logloss:0.40801\n",
      "[120]\tvalidation_0-auc:0.99843\tvalidation_0-error:0.01494\tvalidation_0-logloss:0.25719\tvalidation_1-auc:1.00000\tvalidation_1-error:0.01418\tvalidation_1-logloss:0.28571\tvalidation_2-auc:0.92409\tvalidation_2-error:0.13527\tvalidation_2-logloss:0.40763\n",
      "[121]\tvalidation_0-auc:0.99848\tvalidation_0-error:0.01494\tvalidation_0-logloss:0.25560\tvalidation_1-auc:1.00000\tvalidation_1-error:0.01418\tvalidation_1-logloss:0.28429\tvalidation_2-auc:0.92437\tvalidation_2-error:0.13527\tvalidation_2-logloss:0.40710\n",
      "[122]\tvalidation_0-auc:0.99851\tvalidation_0-error:0.01494\tvalidation_0-logloss:0.25387\tvalidation_1-auc:1.00000\tvalidation_1-error:0.01418\tvalidation_1-logloss:0.28243\tvalidation_2-auc:0.92400\tvalidation_2-error:0.13527\tvalidation_2-logloss:0.40639\n",
      "[123]\tvalidation_0-auc:0.99852\tvalidation_0-error:0.01494\tvalidation_0-logloss:0.25222\tvalidation_1-auc:1.00000\tvalidation_1-error:0.01418\tvalidation_1-logloss:0.28084\tvalidation_2-auc:0.92362\tvalidation_2-error:0.13527\tvalidation_2-logloss:0.40615\n",
      "[124]\tvalidation_0-auc:0.99858\tvalidation_0-error:0.01565\tvalidation_0-logloss:0.25049\tvalidation_1-auc:1.00000\tvalidation_1-error:0.01418\tvalidation_1-logloss:0.27894\tvalidation_2-auc:0.92372\tvalidation_2-error:0.13527\tvalidation_2-logloss:0.40575\n",
      "[125]\tvalidation_0-auc:0.99860\tvalidation_0-error:0.01565\tvalidation_0-logloss:0.24886\tvalidation_1-auc:1.00000\tvalidation_1-error:0.01418\tvalidation_1-logloss:0.27733\tvalidation_2-auc:0.92362\tvalidation_2-error:0.13527\tvalidation_2-logloss:0.40559\n",
      "[126]\tvalidation_0-auc:0.99864\tvalidation_0-error:0.01565\tvalidation_0-logloss:0.24727\tvalidation_1-auc:1.00000\tvalidation_1-error:0.01418\tvalidation_1-logloss:0.27534\tvalidation_2-auc:0.92381\tvalidation_2-error:0.13527\tvalidation_2-logloss:0.40483\n",
      "[127]\tvalidation_0-auc:0.99869\tvalidation_0-error:0.01494\tvalidation_0-logloss:0.24562\tvalidation_1-auc:1.00000\tvalidation_1-error:0.01418\tvalidation_1-logloss:0.27334\tvalidation_2-auc:0.92437\tvalidation_2-error:0.13527\tvalidation_2-logloss:0.40353\n",
      "[128]\tvalidation_0-auc:0.99874\tvalidation_0-error:0.01494\tvalidation_0-logloss:0.24396\tvalidation_1-auc:1.00000\tvalidation_1-error:0.01418\tvalidation_1-logloss:0.27181\tvalidation_2-auc:0.92409\tvalidation_2-error:0.13527\tvalidation_2-logloss:0.40269\n",
      "[129]\tvalidation_0-auc:0.99873\tvalidation_0-error:0.01494\tvalidation_0-logloss:0.24244\tvalidation_1-auc:1.00000\tvalidation_1-error:0.01418\tvalidation_1-logloss:0.27039\tvalidation_2-auc:0.92400\tvalidation_2-error:0.13527\tvalidation_2-logloss:0.40246\n",
      "[130]\tvalidation_0-auc:0.99876\tvalidation_0-error:0.01494\tvalidation_0-logloss:0.24086\tvalidation_1-auc:1.00000\tvalidation_1-error:0.01418\tvalidation_1-logloss:0.26849\tvalidation_2-auc:0.92409\tvalidation_2-error:0.13527\tvalidation_2-logloss:0.40185\n",
      "[131]\tvalidation_0-auc:0.99879\tvalidation_0-error:0.01494\tvalidation_0-logloss:0.23922\tvalidation_1-auc:1.00000\tvalidation_1-error:0.01418\tvalidation_1-logloss:0.26660\tvalidation_2-auc:0.92372\tvalidation_2-error:0.13527\tvalidation_2-logloss:0.40133\n",
      "[132]\tvalidation_0-auc:0.99879\tvalidation_0-error:0.01422\tvalidation_0-logloss:0.23770\tvalidation_1-auc:1.00000\tvalidation_1-error:0.01418\tvalidation_1-logloss:0.26500\tvalidation_2-auc:0.92372\tvalidation_2-error:0.13527\tvalidation_2-logloss:0.40065\n",
      "[133]\tvalidation_0-auc:0.99880\tvalidation_0-error:0.01422\tvalidation_0-logloss:0.23611\tvalidation_1-auc:1.00000\tvalidation_1-error:0.01418\tvalidation_1-logloss:0.26336\tvalidation_2-auc:0.92344\tvalidation_2-error:0.13527\tvalidation_2-logloss:0.40029\n",
      "[134]\tvalidation_0-auc:0.99883\tvalidation_0-error:0.01422\tvalidation_0-logloss:0.23471\tvalidation_1-auc:1.00000\tvalidation_1-error:0.01418\tvalidation_1-logloss:0.26199\tvalidation_2-auc:0.92334\tvalidation_2-error:0.13527\tvalidation_2-logloss:0.40008\n",
      "[135]\tvalidation_0-auc:0.99883\tvalidation_0-error:0.01280\tvalidation_0-logloss:0.23327\tvalidation_1-auc:1.00000\tvalidation_1-error:0.01418\tvalidation_1-logloss:0.26051\tvalidation_2-auc:0.92344\tvalidation_2-error:0.13527\tvalidation_2-logloss:0.39949\n",
      "[136]\tvalidation_0-auc:0.99883\tvalidation_0-error:0.01351\tvalidation_0-logloss:0.23186\tvalidation_1-auc:1.00000\tvalidation_1-error:0.01418\tvalidation_1-logloss:0.25943\tvalidation_2-auc:0.92334\tvalidation_2-error:0.13527\tvalidation_2-logloss:0.39858\n",
      "[137]\tvalidation_0-auc:0.99884\tvalidation_0-error:0.01422\tvalidation_0-logloss:0.23039\tvalidation_1-auc:1.00000\tvalidation_1-error:0.01418\tvalidation_1-logloss:0.25793\tvalidation_2-auc:0.92297\tvalidation_2-error:0.13527\tvalidation_2-logloss:0.39825\n",
      "[138]\tvalidation_0-auc:0.99887\tvalidation_0-error:0.01351\tvalidation_0-logloss:0.22896\tvalidation_1-auc:1.00000\tvalidation_1-error:0.01418\tvalidation_1-logloss:0.25637\tvalidation_2-auc:0.92288\tvalidation_2-error:0.13527\tvalidation_2-logloss:0.39760\n",
      "[139]\tvalidation_0-auc:0.99890\tvalidation_0-error:0.01280\tvalidation_0-logloss:0.22741\tvalidation_1-auc:1.00000\tvalidation_1-error:0.01418\tvalidation_1-logloss:0.25478\tvalidation_2-auc:0.92278\tvalidation_2-error:0.13527\tvalidation_2-logloss:0.39725\n"
     ]
    },
    {
     "name": "stdout",
     "output_type": "stream",
     "text": [
      "[140]\tvalidation_0-auc:0.99891\tvalidation_0-error:0.01280\tvalidation_0-logloss:0.22602\tvalidation_1-auc:1.00000\tvalidation_1-error:0.01418\tvalidation_1-logloss:0.25336\tvalidation_2-auc:0.92288\tvalidation_2-error:0.13527\tvalidation_2-logloss:0.39679\n",
      "[141]\tvalidation_0-auc:0.99891\tvalidation_0-error:0.01280\tvalidation_0-logloss:0.22458\tvalidation_1-auc:1.00000\tvalidation_1-error:0.01418\tvalidation_1-logloss:0.25191\tvalidation_2-auc:0.92306\tvalidation_2-error:0.13527\tvalidation_2-logloss:0.39599\n",
      "[142]\tvalidation_0-auc:0.99891\tvalidation_0-error:0.01280\tvalidation_0-logloss:0.22318\tvalidation_1-auc:1.00000\tvalidation_1-error:0.01418\tvalidation_1-logloss:0.25049\tvalidation_2-auc:0.92288\tvalidation_2-error:0.13527\tvalidation_2-logloss:0.39530\n",
      "[143]\tvalidation_0-auc:0.99893\tvalidation_0-error:0.01280\tvalidation_0-logloss:0.22188\tvalidation_1-auc:1.00000\tvalidation_1-error:0.01418\tvalidation_1-logloss:0.24944\tvalidation_2-auc:0.92316\tvalidation_2-error:0.13527\tvalidation_2-logloss:0.39466\n",
      "[144]\tvalidation_0-auc:0.99893\tvalidation_0-error:0.01280\tvalidation_0-logloss:0.22052\tvalidation_1-auc:1.00000\tvalidation_1-error:0.01418\tvalidation_1-logloss:0.24810\tvalidation_2-auc:0.92316\tvalidation_2-error:0.13527\tvalidation_2-logloss:0.39406\n",
      "[145]\tvalidation_0-auc:0.99894\tvalidation_0-error:0.01280\tvalidation_0-logloss:0.21919\tvalidation_1-auc:1.00000\tvalidation_1-error:0.01418\tvalidation_1-logloss:0.24683\tvalidation_2-auc:0.92344\tvalidation_2-error:0.13527\tvalidation_2-logloss:0.39328\n",
      "[146]\tvalidation_0-auc:0.99896\tvalidation_0-error:0.01280\tvalidation_0-logloss:0.21784\tvalidation_1-auc:1.00000\tvalidation_1-error:0.01418\tvalidation_1-logloss:0.24538\tvalidation_2-auc:0.92362\tvalidation_2-error:0.13527\tvalidation_2-logloss:0.39265\n",
      "[147]\tvalidation_0-auc:0.99897\tvalidation_0-error:0.01280\tvalidation_0-logloss:0.21649\tvalidation_1-auc:1.00000\tvalidation_1-error:0.01418\tvalidation_1-logloss:0.24387\tvalidation_2-auc:0.92353\tvalidation_2-error:0.13527\tvalidation_2-logloss:0.39234\n",
      "[148]\tvalidation_0-auc:0.99896\tvalidation_0-error:0.01351\tvalidation_0-logloss:0.21522\tvalidation_1-auc:1.00000\tvalidation_1-error:0.01418\tvalidation_1-logloss:0.24293\tvalidation_2-auc:0.92344\tvalidation_2-error:0.13527\tvalidation_2-logloss:0.39213\n",
      "[149]\tvalidation_0-auc:0.99898\tvalidation_0-error:0.01209\tvalidation_0-logloss:0.21384\tvalidation_1-auc:1.00000\tvalidation_1-error:0.01418\tvalidation_1-logloss:0.24145\tvalidation_2-auc:0.92344\tvalidation_2-error:0.13527\tvalidation_2-logloss:0.39187\n",
      "[150]\tvalidation_0-auc:0.99900\tvalidation_0-error:0.01209\tvalidation_0-logloss:0.21249\tvalidation_1-auc:1.00000\tvalidation_1-error:0.01418\tvalidation_1-logloss:0.23985\tvalidation_2-auc:0.92362\tvalidation_2-error:0.13527\tvalidation_2-logloss:0.39148\n",
      "[151]\tvalidation_0-auc:0.99903\tvalidation_0-error:0.01209\tvalidation_0-logloss:0.21123\tvalidation_1-auc:1.00000\tvalidation_1-error:0.01418\tvalidation_1-logloss:0.23878\tvalidation_2-auc:0.92344\tvalidation_2-error:0.13527\tvalidation_2-logloss:0.39120\n",
      "[152]\tvalidation_0-auc:0.99904\tvalidation_0-error:0.01209\tvalidation_0-logloss:0.20994\tvalidation_1-auc:1.00000\tvalidation_1-error:0.01418\tvalidation_1-logloss:0.23740\tvalidation_2-auc:0.92372\tvalidation_2-error:0.13527\tvalidation_2-logloss:0.39006\n",
      "[153]\tvalidation_0-auc:0.99906\tvalidation_0-error:0.01209\tvalidation_0-logloss:0.20873\tvalidation_1-auc:1.00000\tvalidation_1-error:0.01418\tvalidation_1-logloss:0.23613\tvalidation_2-auc:0.92446\tvalidation_2-error:0.13527\tvalidation_2-logloss:0.38954\n",
      "[154]\tvalidation_0-auc:0.99906\tvalidation_0-error:0.01209\tvalidation_0-logloss:0.20757\tvalidation_1-auc:1.00000\tvalidation_1-error:0.01418\tvalidation_1-logloss:0.23522\tvalidation_2-auc:0.92428\tvalidation_2-error:0.13527\tvalidation_2-logloss:0.38955\n",
      "[155]\tvalidation_0-auc:0.99907\tvalidation_0-error:0.01209\tvalidation_0-logloss:0.20634\tvalidation_1-auc:1.00000\tvalidation_1-error:0.01418\tvalidation_1-logloss:0.23387\tvalidation_2-auc:0.92456\tvalidation_2-error:0.13527\tvalidation_2-logloss:0.38902\n",
      "[156]\tvalidation_0-auc:0.99909\tvalidation_0-error:0.01138\tvalidation_0-logloss:0.20506\tvalidation_1-auc:1.00000\tvalidation_1-error:0.01418\tvalidation_1-logloss:0.23262\tvalidation_2-auc:0.92437\tvalidation_2-error:0.13527\tvalidation_2-logloss:0.38884\n",
      "[157]\tvalidation_0-auc:0.99911\tvalidation_0-error:0.01138\tvalidation_0-logloss:0.20372\tvalidation_1-auc:1.00000\tvalidation_1-error:0.01418\tvalidation_1-logloss:0.23091\tvalidation_2-auc:0.92437\tvalidation_2-error:0.13527\tvalidation_2-logloss:0.38856\n",
      "[158]\tvalidation_0-auc:0.99911\tvalidation_0-error:0.01138\tvalidation_0-logloss:0.20251\tvalidation_1-auc:1.00000\tvalidation_1-error:0.01418\tvalidation_1-logloss:0.23002\tvalidation_2-auc:0.92502\tvalidation_2-error:0.13527\tvalidation_2-logloss:0.38809\n",
      "[159]\tvalidation_0-auc:0.99913\tvalidation_0-error:0.01138\tvalidation_0-logloss:0.20131\tvalidation_1-auc:1.00000\tvalidation_1-error:0.01418\tvalidation_1-logloss:0.22881\tvalidation_2-auc:0.92493\tvalidation_2-error:0.13527\tvalidation_2-logloss:0.38749\n",
      "[160]\tvalidation_0-auc:0.99914\tvalidation_0-error:0.01138\tvalidation_0-logloss:0.20011\tvalidation_1-auc:1.00000\tvalidation_1-error:0.01418\tvalidation_1-logloss:0.22761\tvalidation_2-auc:0.92558\tvalidation_2-error:0.13527\tvalidation_2-logloss:0.38675\n",
      "[161]\tvalidation_0-auc:0.99915\tvalidation_0-error:0.01209\tvalidation_0-logloss:0.19891\tvalidation_1-auc:1.00000\tvalidation_1-error:0.01418\tvalidation_1-logloss:0.22660\tvalidation_2-auc:0.92577\tvalidation_2-error:0.13527\tvalidation_2-logloss:0.38609\n",
      "[162]\tvalidation_0-auc:0.99916\tvalidation_0-error:0.01067\tvalidation_0-logloss:0.19773\tvalidation_1-auc:1.00000\tvalidation_1-error:0.01418\tvalidation_1-logloss:0.22543\tvalidation_2-auc:0.92596\tvalidation_2-error:0.13527\tvalidation_2-logloss:0.38615\n",
      "[163]\tvalidation_0-auc:0.99918\tvalidation_0-error:0.01138\tvalidation_0-logloss:0.19657\tvalidation_1-auc:1.00000\tvalidation_1-error:0.01418\tvalidation_1-logloss:0.22422\tvalidation_2-auc:0.92586\tvalidation_2-error:0.13527\tvalidation_2-logloss:0.38594\n",
      "[164]\tvalidation_0-auc:0.99919\tvalidation_0-error:0.01138\tvalidation_0-logloss:0.19541\tvalidation_1-auc:1.00000\tvalidation_1-error:0.01418\tvalidation_1-logloss:0.22299\tvalidation_2-auc:0.92540\tvalidation_2-error:0.13527\tvalidation_2-logloss:0.38562\n",
      "[165]\tvalidation_0-auc:0.99923\tvalidation_0-error:0.01138\tvalidation_0-logloss:0.19425\tvalidation_1-auc:1.00000\tvalidation_1-error:0.01418\tvalidation_1-logloss:0.22177\tvalidation_2-auc:0.92512\tvalidation_2-error:0.13527\tvalidation_2-logloss:0.38569\n",
      "[166]\tvalidation_0-auc:0.99923\tvalidation_0-error:0.01138\tvalidation_0-logloss:0.19310\tvalidation_1-auc:1.00000\tvalidation_1-error:0.01418\tvalidation_1-logloss:0.22061\tvalidation_2-auc:0.92521\tvalidation_2-error:0.13527\tvalidation_2-logloss:0.38513\n",
      "[167]\tvalidation_0-auc:0.99924\tvalidation_0-error:0.01138\tvalidation_0-logloss:0.19199\tvalidation_1-auc:1.00000\tvalidation_1-error:0.01418\tvalidation_1-logloss:0.21951\tvalidation_2-auc:0.92605\tvalidation_2-error:0.13527\tvalidation_2-logloss:0.38448\n",
      "[168]\tvalidation_0-auc:0.99925\tvalidation_0-error:0.01138\tvalidation_0-logloss:0.19086\tvalidation_1-auc:1.00000\tvalidation_1-error:0.01418\tvalidation_1-logloss:0.21831\tvalidation_2-auc:0.92568\tvalidation_2-error:0.13527\tvalidation_2-logloss:0.38399\n",
      "[169]\tvalidation_0-auc:0.99928\tvalidation_0-error:0.01138\tvalidation_0-logloss:0.18978\tvalidation_1-auc:1.00000\tvalidation_1-error:0.01418\tvalidation_1-logloss:0.21726\tvalidation_2-auc:0.92736\tvalidation_2-error:0.13527\tvalidation_2-logloss:0.38352\n",
      "[170]\tvalidation_0-auc:0.99930\tvalidation_0-error:0.01138\tvalidation_0-logloss:0.18869\tvalidation_1-auc:1.00000\tvalidation_1-error:0.01418\tvalidation_1-logloss:0.21626\tvalidation_2-auc:0.92726\tvalidation_2-error:0.13527\tvalidation_2-logloss:0.38333\n",
      "[171]\tvalidation_0-auc:0.99930\tvalidation_0-error:0.01138\tvalidation_0-logloss:0.18762\tvalidation_1-auc:1.00000\tvalidation_1-error:0.01418\tvalidation_1-logloss:0.21524\tvalidation_2-auc:0.92726\tvalidation_2-error:0.13527\tvalidation_2-logloss:0.38302\n",
      "[172]\tvalidation_0-auc:0.99930\tvalidation_0-error:0.01209\tvalidation_0-logloss:0.18653\tvalidation_1-auc:1.00000\tvalidation_1-error:0.01418\tvalidation_1-logloss:0.21405\tvalidation_2-auc:0.92708\tvalidation_2-error:0.13527\tvalidation_2-logloss:0.38303\n"
     ]
    },
    {
     "name": "stdout",
     "output_type": "stream",
     "text": [
      "[173]\tvalidation_0-auc:0.99931\tvalidation_0-error:0.01067\tvalidation_0-logloss:0.18535\tvalidation_1-auc:1.00000\tvalidation_1-error:0.01418\tvalidation_1-logloss:0.21255\tvalidation_2-auc:0.92689\tvalidation_2-error:0.13527\tvalidation_2-logloss:0.38294\n",
      "[174]\tvalidation_0-auc:0.99930\tvalidation_0-error:0.01067\tvalidation_0-logloss:0.18431\tvalidation_1-auc:1.00000\tvalidation_1-error:0.01418\tvalidation_1-logloss:0.21148\tvalidation_2-auc:0.92708\tvalidation_2-error:0.13527\tvalidation_2-logloss:0.38249\n",
      "[175]\tvalidation_0-auc:0.99931\tvalidation_0-error:0.01067\tvalidation_0-logloss:0.18319\tvalidation_1-auc:1.00000\tvalidation_1-error:0.00709\tvalidation_1-logloss:0.21034\tvalidation_2-auc:0.92689\tvalidation_2-error:0.13527\tvalidation_2-logloss:0.38225\n",
      "[176]\tvalidation_0-auc:0.99932\tvalidation_0-error:0.01138\tvalidation_0-logloss:0.18215\tvalidation_1-auc:1.00000\tvalidation_1-error:0.01418\tvalidation_1-logloss:0.20938\tvalidation_2-auc:0.92689\tvalidation_2-error:0.13527\tvalidation_2-logloss:0.38193\n",
      "[177]\tvalidation_0-auc:0.99934\tvalidation_0-error:0.01209\tvalidation_0-logloss:0.18110\tvalidation_1-auc:1.00000\tvalidation_1-error:0.01418\tvalidation_1-logloss:0.20847\tvalidation_2-auc:0.92717\tvalidation_2-error:0.13527\tvalidation_2-logloss:0.38115\n",
      "[178]\tvalidation_0-auc:0.99934\tvalidation_0-error:0.01138\tvalidation_0-logloss:0.18016\tvalidation_1-auc:1.00000\tvalidation_1-error:0.01418\tvalidation_1-logloss:0.20787\tvalidation_2-auc:0.92708\tvalidation_2-error:0.13527\tvalidation_2-logloss:0.38132\n",
      "[179]\tvalidation_0-auc:0.99935\tvalidation_0-error:0.01067\tvalidation_0-logloss:0.17910\tvalidation_1-auc:1.00000\tvalidation_1-error:0.01418\tvalidation_1-logloss:0.20667\tvalidation_2-auc:0.92689\tvalidation_2-error:0.13527\tvalidation_2-logloss:0.38117\n",
      "[180]\tvalidation_0-auc:0.99935\tvalidation_0-error:0.01067\tvalidation_0-logloss:0.17813\tvalidation_1-auc:1.00000\tvalidation_1-error:0.01418\tvalidation_1-logloss:0.20569\tvalidation_2-auc:0.92689\tvalidation_2-error:0.13527\tvalidation_2-logloss:0.38056\n",
      "[181]\tvalidation_0-auc:0.99935\tvalidation_0-error:0.01067\tvalidation_0-logloss:0.17712\tvalidation_1-auc:1.00000\tvalidation_1-error:0.01418\tvalidation_1-logloss:0.20476\tvalidation_2-auc:0.92661\tvalidation_2-error:0.13527\tvalidation_2-logloss:0.38071\n",
      "[182]\tvalidation_0-auc:0.99936\tvalidation_0-error:0.01067\tvalidation_0-logloss:0.17615\tvalidation_1-auc:1.00000\tvalidation_1-error:0.01418\tvalidation_1-logloss:0.20378\tvalidation_2-auc:0.92652\tvalidation_2-error:0.13527\tvalidation_2-logloss:0.38073\n",
      "[183]\tvalidation_0-auc:0.99938\tvalidation_0-error:0.00996\tvalidation_0-logloss:0.17517\tvalidation_1-auc:1.00000\tvalidation_1-error:0.01418\tvalidation_1-logloss:0.20282\tvalidation_2-auc:0.92661\tvalidation_2-error:0.13527\tvalidation_2-logloss:0.38055\n",
      "[184]\tvalidation_0-auc:0.99939\tvalidation_0-error:0.00925\tvalidation_0-logloss:0.17406\tvalidation_1-auc:1.00000\tvalidation_1-error:0.01418\tvalidation_1-logloss:0.20143\tvalidation_2-auc:0.92633\tvalidation_2-error:0.13527\tvalidation_2-logloss:0.38042\n",
      "[185]\tvalidation_0-auc:0.99940\tvalidation_0-error:0.00925\tvalidation_0-logloss:0.17306\tvalidation_1-auc:1.00000\tvalidation_1-error:0.01418\tvalidation_1-logloss:0.20046\tvalidation_2-auc:0.92642\tvalidation_2-error:0.13527\tvalidation_2-logloss:0.38014\n",
      "[186]\tvalidation_0-auc:0.99941\tvalidation_0-error:0.00925\tvalidation_0-logloss:0.17204\tvalidation_1-auc:1.00000\tvalidation_1-error:0.01418\tvalidation_1-logloss:0.19940\tvalidation_2-auc:0.92633\tvalidation_2-error:0.13527\tvalidation_2-logloss:0.38011\n",
      "[187]\tvalidation_0-auc:0.99941\tvalidation_0-error:0.00782\tvalidation_0-logloss:0.17111\tvalidation_1-auc:1.00000\tvalidation_1-error:0.00709\tvalidation_1-logloss:0.19798\tvalidation_2-auc:0.92596\tvalidation_2-error:0.13527\tvalidation_2-logloss:0.38047\n",
      "[188]\tvalidation_0-auc:0.99941\tvalidation_0-error:0.00853\tvalidation_0-logloss:0.17016\tvalidation_1-auc:1.00000\tvalidation_1-error:0.01418\tvalidation_1-logloss:0.19712\tvalidation_2-auc:0.92586\tvalidation_2-error:0.13527\tvalidation_2-logloss:0.38009\n",
      "[189]\tvalidation_0-auc:0.99942\tvalidation_0-error:0.00853\tvalidation_0-logloss:0.16922\tvalidation_1-auc:1.00000\tvalidation_1-error:0.01418\tvalidation_1-logloss:0.19608\tvalidation_2-auc:0.92577\tvalidation_2-error:0.13527\tvalidation_2-logloss:0.38004\n",
      "[190]\tvalidation_0-auc:0.99943\tvalidation_0-error:0.00782\tvalidation_0-logloss:0.16837\tvalidation_1-auc:1.00000\tvalidation_1-error:0.00709\tvalidation_1-logloss:0.19491\tvalidation_2-auc:0.92568\tvalidation_2-error:0.13527\tvalidation_2-logloss:0.38001\n",
      "[191]\tvalidation_0-auc:0.99943\tvalidation_0-error:0.00782\tvalidation_0-logloss:0.16745\tvalidation_1-auc:1.00000\tvalidation_1-error:0.00709\tvalidation_1-logloss:0.19379\tvalidation_2-auc:0.92549\tvalidation_2-error:0.13527\tvalidation_2-logloss:0.38003\n",
      "[192]\tvalidation_0-auc:0.99943\tvalidation_0-error:0.00782\tvalidation_0-logloss:0.16659\tvalidation_1-auc:1.00000\tvalidation_1-error:0.00709\tvalidation_1-logloss:0.19281\tvalidation_2-auc:0.92530\tvalidation_2-error:0.13527\tvalidation_2-logloss:0.38020\n",
      "[193]\tvalidation_0-auc:0.99943\tvalidation_0-error:0.00782\tvalidation_0-logloss:0.16582\tvalidation_1-auc:1.00000\tvalidation_1-error:0.00709\tvalidation_1-logloss:0.19189\tvalidation_2-auc:0.92484\tvalidation_2-error:0.13527\tvalidation_2-logloss:0.38019\n",
      "[194]\tvalidation_0-auc:0.99944\tvalidation_0-error:0.00782\tvalidation_0-logloss:0.16491\tvalidation_1-auc:1.00000\tvalidation_1-error:0.00709\tvalidation_1-logloss:0.19057\tvalidation_2-auc:0.92428\tvalidation_2-error:0.13527\tvalidation_2-logloss:0.38062\n",
      "[195]\tvalidation_0-auc:0.99945\tvalidation_0-error:0.00782\tvalidation_0-logloss:0.16404\tvalidation_1-auc:1.00000\tvalidation_1-error:0.00709\tvalidation_1-logloss:0.18962\tvalidation_2-auc:0.92474\tvalidation_2-error:0.13527\tvalidation_2-logloss:0.38034\n",
      "[196]\tvalidation_0-auc:0.99944\tvalidation_0-error:0.00782\tvalidation_0-logloss:0.16317\tvalidation_1-auc:1.00000\tvalidation_1-error:0.00709\tvalidation_1-logloss:0.18866\tvalidation_2-auc:0.92512\tvalidation_2-error:0.13527\tvalidation_2-logloss:0.37997\n",
      "[197]\tvalidation_0-auc:0.99945\tvalidation_0-error:0.00782\tvalidation_0-logloss:0.16223\tvalidation_1-auc:1.00000\tvalidation_1-error:0.00709\tvalidation_1-logloss:0.18782\tvalidation_2-auc:0.92484\tvalidation_2-error:0.13527\tvalidation_2-logloss:0.37982\n",
      "[198]\tvalidation_0-auc:0.99946\tvalidation_0-error:0.00782\tvalidation_0-logloss:0.16141\tvalidation_1-auc:1.00000\tvalidation_1-error:0.00709\tvalidation_1-logloss:0.18687\tvalidation_2-auc:0.92456\tvalidation_2-error:0.13527\tvalidation_2-logloss:0.37982\n",
      "[199]\tvalidation_0-auc:0.99946\tvalidation_0-error:0.00782\tvalidation_0-logloss:0.16063\tvalidation_1-auc:1.00000\tvalidation_1-error:0.00709\tvalidation_1-logloss:0.18613\tvalidation_2-auc:0.92577\tvalidation_2-error:0.13527\tvalidation_2-logloss:0.37963\n",
      "[200]\tvalidation_0-auc:0.99947\tvalidation_0-error:0.00782\tvalidation_0-logloss:0.15973\tvalidation_1-auc:1.00000\tvalidation_1-error:0.00709\tvalidation_1-logloss:0.18510\tvalidation_2-auc:0.92586\tvalidation_2-error:0.13527\tvalidation_2-logloss:0.37952\n",
      "[201]\tvalidation_0-auc:0.99947\tvalidation_0-error:0.00782\tvalidation_0-logloss:0.15887\tvalidation_1-auc:1.00000\tvalidation_1-error:0.00709\tvalidation_1-logloss:0.18415\tvalidation_2-auc:0.92614\tvalidation_2-error:0.13527\tvalidation_2-logloss:0.37927\n",
      "[202]\tvalidation_0-auc:0.99948\tvalidation_0-error:0.00782\tvalidation_0-logloss:0.15798\tvalidation_1-auc:1.00000\tvalidation_1-error:0.00709\tvalidation_1-logloss:0.18336\tvalidation_2-auc:0.92586\tvalidation_2-error:0.13527\tvalidation_2-logloss:0.37912\n",
      "[203]\tvalidation_0-auc:0.99948\tvalidation_0-error:0.00782\tvalidation_0-logloss:0.15731\tvalidation_1-auc:1.00000\tvalidation_1-error:0.00709\tvalidation_1-logloss:0.18243\tvalidation_2-auc:0.92586\tvalidation_2-error:0.13527\tvalidation_2-logloss:0.37919\n",
      "[204]\tvalidation_0-auc:0.99949\tvalidation_0-error:0.00782\tvalidation_0-logloss:0.15651\tvalidation_1-auc:1.00000\tvalidation_1-error:0.00709\tvalidation_1-logloss:0.18160\tvalidation_2-auc:0.92577\tvalidation_2-error:0.13527\tvalidation_2-logloss:0.37930\n",
      "[205]\tvalidation_0-auc:0.99949\tvalidation_0-error:0.00782\tvalidation_0-logloss:0.15567\tvalidation_1-auc:1.00000\tvalidation_1-error:0.00709\tvalidation_1-logloss:0.18047\tvalidation_2-auc:0.92577\tvalidation_2-error:0.13527\tvalidation_2-logloss:0.37918\n"
     ]
    },
    {
     "name": "stdout",
     "output_type": "stream",
     "text": [
      "[206]\tvalidation_0-auc:0.99949\tvalidation_0-error:0.00782\tvalidation_0-logloss:0.15479\tvalidation_1-auc:1.00000\tvalidation_1-error:0.00709\tvalidation_1-logloss:0.17958\tvalidation_2-auc:0.92577\tvalidation_2-error:0.13527\tvalidation_2-logloss:0.37902\n",
      "[207]\tvalidation_0-auc:0.99950\tvalidation_0-error:0.00782\tvalidation_0-logloss:0.15402\tvalidation_1-auc:1.00000\tvalidation_1-error:0.00709\tvalidation_1-logloss:0.17872\tvalidation_2-auc:0.92661\tvalidation_2-error:0.13527\tvalidation_2-logloss:0.37893\n",
      "[208]\tvalidation_0-auc:0.99951\tvalidation_0-error:0.00782\tvalidation_0-logloss:0.15317\tvalidation_1-auc:1.00000\tvalidation_1-error:0.00709\tvalidation_1-logloss:0.17772\tvalidation_2-auc:0.92605\tvalidation_2-error:0.13527\tvalidation_2-logloss:0.37891\n",
      "[209]\tvalidation_0-auc:0.99951\tvalidation_0-error:0.00782\tvalidation_0-logloss:0.15236\tvalidation_1-auc:1.00000\tvalidation_1-error:0.00709\tvalidation_1-logloss:0.17683\tvalidation_2-auc:0.92633\tvalidation_2-error:0.13527\tvalidation_2-logloss:0.37918\n",
      "[210]\tvalidation_0-auc:0.99951\tvalidation_0-error:0.00782\tvalidation_0-logloss:0.15158\tvalidation_1-auc:1.00000\tvalidation_1-error:0.00709\tvalidation_1-logloss:0.17583\tvalidation_2-auc:0.92652\tvalidation_2-error:0.13527\tvalidation_2-logloss:0.37916\n",
      "[211]\tvalidation_0-auc:0.99951\tvalidation_0-error:0.00782\tvalidation_0-logloss:0.15088\tvalidation_1-auc:1.00000\tvalidation_1-error:0.00709\tvalidation_1-logloss:0.17511\tvalidation_2-auc:0.92624\tvalidation_2-error:0.13527\tvalidation_2-logloss:0.37912\n",
      "[212]\tvalidation_0-auc:0.99952\tvalidation_0-error:0.00782\tvalidation_0-logloss:0.15011\tvalidation_1-auc:1.00000\tvalidation_1-error:0.00709\tvalidation_1-logloss:0.17428\tvalidation_2-auc:0.92652\tvalidation_2-error:0.13527\tvalidation_2-logloss:0.37899\n",
      "[213]\tvalidation_0-auc:0.99952\tvalidation_0-error:0.00782\tvalidation_0-logloss:0.14938\tvalidation_1-auc:1.00000\tvalidation_1-error:0.00709\tvalidation_1-logloss:0.17350\tvalidation_2-auc:0.92642\tvalidation_2-error:0.13527\tvalidation_2-logloss:0.37912\n",
      "[214]\tvalidation_0-auc:0.99952\tvalidation_0-error:0.00782\tvalidation_0-logloss:0.14863\tvalidation_1-auc:1.00000\tvalidation_1-error:0.00709\tvalidation_1-logloss:0.17263\tvalidation_2-auc:0.92642\tvalidation_2-error:0.13527\tvalidation_2-logloss:0.37935\n",
      "[215]\tvalidation_0-auc:0.99953\tvalidation_0-error:0.00782\tvalidation_0-logloss:0.14787\tvalidation_1-auc:1.00000\tvalidation_1-error:0.00709\tvalidation_1-logloss:0.17192\tvalidation_2-auc:0.92652\tvalidation_2-error:0.13527\tvalidation_2-logloss:0.37933\n",
      "[216]\tvalidation_0-auc:0.99953\tvalidation_0-error:0.00782\tvalidation_0-logloss:0.14711\tvalidation_1-auc:1.00000\tvalidation_1-error:0.00709\tvalidation_1-logloss:0.17108\tvalidation_2-auc:0.92614\tvalidation_2-error:0.13527\tvalidation_2-logloss:0.37959\n",
      "[217]\tvalidation_0-auc:0.99954\tvalidation_0-error:0.00782\tvalidation_0-logloss:0.14635\tvalidation_1-auc:1.00000\tvalidation_1-error:0.00709\tvalidation_1-logloss:0.17008\tvalidation_2-auc:0.92624\tvalidation_2-error:0.13527\tvalidation_2-logloss:0.37966\n",
      "[218]\tvalidation_0-auc:0.99955\tvalidation_0-error:0.00782\tvalidation_0-logloss:0.14565\tvalidation_1-auc:1.00000\tvalidation_1-error:0.00709\tvalidation_1-logloss:0.16954\tvalidation_2-auc:0.92633\tvalidation_2-error:0.13527\tvalidation_2-logloss:0.37942\n",
      "[219]\tvalidation_0-auc:0.99955\tvalidation_0-error:0.00782\tvalidation_0-logloss:0.14500\tvalidation_1-auc:1.00000\tvalidation_1-error:0.00709\tvalidation_1-logloss:0.16879\tvalidation_2-auc:0.92633\tvalidation_2-error:0.13527\tvalidation_2-logloss:0.37951\n",
      "[220]\tvalidation_0-auc:0.99955\tvalidation_0-error:0.00711\tvalidation_0-logloss:0.14432\tvalidation_1-auc:1.00000\tvalidation_1-error:0.00709\tvalidation_1-logloss:0.16815\tvalidation_2-auc:0.92614\tvalidation_2-error:0.13527\tvalidation_2-logloss:0.37978\n",
      "[221]\tvalidation_0-auc:0.99955\tvalidation_0-error:0.00711\tvalidation_0-logloss:0.14355\tvalidation_1-auc:1.00000\tvalidation_1-error:0.00709\tvalidation_1-logloss:0.16721\tvalidation_2-auc:0.92614\tvalidation_2-error:0.13527\tvalidation_2-logloss:0.37987\n",
      "[222]\tvalidation_0-auc:0.99956\tvalidation_0-error:0.00711\tvalidation_0-logloss:0.14281\tvalidation_1-auc:1.00000\tvalidation_1-error:0.00709\tvalidation_1-logloss:0.16650\tvalidation_2-auc:0.92605\tvalidation_2-error:0.13527\tvalidation_2-logloss:0.38004\n",
      "[223]\tvalidation_0-auc:0.99957\tvalidation_0-error:0.00711\tvalidation_0-logloss:0.14210\tvalidation_1-auc:1.00000\tvalidation_1-error:0.00709\tvalidation_1-logloss:0.16559\tvalidation_2-auc:0.92614\tvalidation_2-error:0.13527\tvalidation_2-logloss:0.37989\n",
      "[224]\tvalidation_0-auc:0.99959\tvalidation_0-error:0.00711\tvalidation_0-logloss:0.14136\tvalidation_1-auc:1.00000\tvalidation_1-error:0.00709\tvalidation_1-logloss:0.16469\tvalidation_2-auc:0.92614\tvalidation_2-error:0.13527\tvalidation_2-logloss:0.38006\n",
      "[225]\tvalidation_0-auc:0.99959\tvalidation_0-error:0.00711\tvalidation_0-logloss:0.14074\tvalidation_1-auc:1.00000\tvalidation_1-error:0.00709\tvalidation_1-logloss:0.16390\tvalidation_2-auc:0.92614\tvalidation_2-error:0.13527\tvalidation_2-logloss:0.38037\n",
      "[226]\tvalidation_0-auc:0.99960\tvalidation_0-error:0.00711\tvalidation_0-logloss:0.14009\tvalidation_1-auc:1.00000\tvalidation_1-error:0.00709\tvalidation_1-logloss:0.16318\tvalidation_2-auc:0.92596\tvalidation_2-error:0.13527\tvalidation_2-logloss:0.38061\n",
      "[227]\tvalidation_0-auc:0.99961\tvalidation_0-error:0.00711\tvalidation_0-logloss:0.13943\tvalidation_1-auc:1.00000\tvalidation_1-error:0.00709\tvalidation_1-logloss:0.16245\tvalidation_2-auc:0.92568\tvalidation_2-error:0.13527\tvalidation_2-logloss:0.38050\n",
      "[228]\tvalidation_0-auc:0.99962\tvalidation_0-error:0.00711\tvalidation_0-logloss:0.13876\tvalidation_1-auc:1.00000\tvalidation_1-error:0.00709\tvalidation_1-logloss:0.16148\tvalidation_2-auc:0.92568\tvalidation_2-error:0.13527\tvalidation_2-logloss:0.38072\n",
      "[229]\tvalidation_0-auc:0.99963\tvalidation_0-error:0.00711\tvalidation_0-logloss:0.13810\tvalidation_1-auc:1.00000\tvalidation_1-error:0.00709\tvalidation_1-logloss:0.16081\tvalidation_2-auc:0.92540\tvalidation_2-error:0.13527\tvalidation_2-logloss:0.38090\n",
      "[230]\tvalidation_0-auc:0.99963\tvalidation_0-error:0.00711\tvalidation_0-logloss:0.13743\tvalidation_1-auc:1.00000\tvalidation_1-error:0.00709\tvalidation_1-logloss:0.16011\tvalidation_2-auc:0.92558\tvalidation_2-error:0.13527\tvalidation_2-logloss:0.38071\n",
      "[231]\tvalidation_0-auc:0.99963\tvalidation_0-error:0.00711\tvalidation_0-logloss:0.13678\tvalidation_1-auc:1.00000\tvalidation_1-error:0.00709\tvalidation_1-logloss:0.15931\tvalidation_2-auc:0.92586\tvalidation_2-error:0.13527\tvalidation_2-logloss:0.38082\n",
      "[232]\tvalidation_0-auc:0.99963\tvalidation_0-error:0.00711\tvalidation_0-logloss:0.13609\tvalidation_1-auc:1.00000\tvalidation_1-error:0.00709\tvalidation_1-logloss:0.15855\tvalidation_2-auc:0.92586\tvalidation_2-error:0.13527\tvalidation_2-logloss:0.38094\n",
      "[233]\tvalidation_0-auc:0.99964\tvalidation_0-error:0.00711\tvalidation_0-logloss:0.13538\tvalidation_1-auc:1.00000\tvalidation_1-error:0.00709\tvalidation_1-logloss:0.15749\tvalidation_2-auc:0.92568\tvalidation_2-error:0.13527\tvalidation_2-logloss:0.38122\n",
      "[234]\tvalidation_0-auc:0.99964\tvalidation_0-error:0.00711\tvalidation_0-logloss:0.13466\tvalidation_1-auc:1.00000\tvalidation_1-error:0.00709\tvalidation_1-logloss:0.15650\tvalidation_2-auc:0.92605\tvalidation_2-error:0.13527\tvalidation_2-logloss:0.38121\n",
      "[235]\tvalidation_0-auc:0.99965\tvalidation_0-error:0.00711\tvalidation_0-logloss:0.13403\tvalidation_1-auc:1.00000\tvalidation_1-error:0.00709\tvalidation_1-logloss:0.15587\tvalidation_2-auc:0.92605\tvalidation_2-error:0.13527\tvalidation_2-logloss:0.38119\n",
      "[236]\tvalidation_0-auc:0.99965\tvalidation_0-error:0.00711\tvalidation_0-logloss:0.13339\tvalidation_1-auc:1.00000\tvalidation_1-error:0.00709\tvalidation_1-logloss:0.15507\tvalidation_2-auc:0.92568\tvalidation_2-error:0.13527\tvalidation_2-logloss:0.38143\n",
      "[237]\tvalidation_0-auc:0.99966\tvalidation_0-error:0.00711\tvalidation_0-logloss:0.13282\tvalidation_1-auc:1.00000\tvalidation_1-error:0.00709\tvalidation_1-logloss:0.15443\tvalidation_2-auc:0.92577\tvalidation_2-error:0.13527\tvalidation_2-logloss:0.38143\n",
      "[238]\tvalidation_0-auc:0.99967\tvalidation_0-error:0.00711\tvalidation_0-logloss:0.13219\tvalidation_1-auc:1.00000\tvalidation_1-error:0.00709\tvalidation_1-logloss:0.15385\tvalidation_2-auc:0.92633\tvalidation_2-error:0.13527\tvalidation_2-logloss:0.38118\n"
     ]
    },
    {
     "name": "stdout",
     "output_type": "stream",
     "text": [
      "[239]\tvalidation_0-auc:0.99967\tvalidation_0-error:0.00711\tvalidation_0-logloss:0.13156\tvalidation_1-auc:1.00000\tvalidation_1-error:0.00709\tvalidation_1-logloss:0.15311\tvalidation_2-auc:0.92605\tvalidation_2-error:0.13527\tvalidation_2-logloss:0.38134\n",
      "[240]\tvalidation_0-auc:0.99969\tvalidation_0-error:0.00711\tvalidation_0-logloss:0.13092\tvalidation_1-auc:1.00000\tvalidation_1-error:0.00709\tvalidation_1-logloss:0.15228\tvalidation_2-auc:0.92652\tvalidation_2-error:0.13527\tvalidation_2-logloss:0.38090\n",
      "[241]\tvalidation_0-auc:0.99969\tvalidation_0-error:0.00640\tvalidation_0-logloss:0.13029\tvalidation_1-auc:1.00000\tvalidation_1-error:0.00709\tvalidation_1-logloss:0.15179\tvalidation_2-auc:0.92661\tvalidation_2-error:0.13527\tvalidation_2-logloss:0.38077\n",
      "[242]\tvalidation_0-auc:0.99969\tvalidation_0-error:0.00640\tvalidation_0-logloss:0.12969\tvalidation_1-auc:1.00000\tvalidation_1-error:0.00709\tvalidation_1-logloss:0.15101\tvalidation_2-auc:0.92670\tvalidation_2-error:0.13527\tvalidation_2-logloss:0.38088\n",
      "[243]\tvalidation_0-auc:0.99969\tvalidation_0-error:0.00640\tvalidation_0-logloss:0.12909\tvalidation_1-auc:1.00000\tvalidation_1-error:0.00709\tvalidation_1-logloss:0.15045\tvalidation_2-auc:0.92624\tvalidation_2-error:0.13527\tvalidation_2-logloss:0.38135\n",
      "[244]\tvalidation_0-auc:0.99970\tvalidation_0-error:0.00640\tvalidation_0-logloss:0.12844\tvalidation_1-auc:1.00000\tvalidation_1-error:0.00709\tvalidation_1-logloss:0.14969\tvalidation_2-auc:0.92614\tvalidation_2-error:0.13527\tvalidation_2-logloss:0.38155\n",
      "[245]\tvalidation_0-auc:0.99970\tvalidation_0-error:0.00640\tvalidation_0-logloss:0.12782\tvalidation_1-auc:1.00000\tvalidation_1-error:0.00709\tvalidation_1-logloss:0.14888\tvalidation_2-auc:0.92624\tvalidation_2-error:0.13527\tvalidation_2-logloss:0.38155\n",
      "[246]\tvalidation_0-auc:0.99970\tvalidation_0-error:0.00640\tvalidation_0-logloss:0.12719\tvalidation_1-auc:1.00000\tvalidation_1-error:0.00709\tvalidation_1-logloss:0.14825\tvalidation_2-auc:0.92614\tvalidation_2-error:0.13527\tvalidation_2-logloss:0.38150\n",
      "[247]\tvalidation_0-auc:0.99971\tvalidation_0-error:0.00640\tvalidation_0-logloss:0.12656\tvalidation_1-auc:1.00000\tvalidation_1-error:0.00709\tvalidation_1-logloss:0.14766\tvalidation_2-auc:0.92698\tvalidation_2-error:0.13527\tvalidation_2-logloss:0.38122\n",
      "[248]\tvalidation_0-auc:0.99972\tvalidation_0-error:0.00640\tvalidation_0-logloss:0.12594\tvalidation_1-auc:1.00000\tvalidation_1-error:0.00709\tvalidation_1-logloss:0.14699\tvalidation_2-auc:0.92680\tvalidation_2-error:0.13527\tvalidation_2-logloss:0.38112\n",
      "[249]\tvalidation_0-auc:0.99973\tvalidation_0-error:0.00640\tvalidation_0-logloss:0.12534\tvalidation_1-auc:1.00000\tvalidation_1-error:0.00709\tvalidation_1-logloss:0.14620\tvalidation_2-auc:0.92689\tvalidation_2-error:0.13527\tvalidation_2-logloss:0.38136\n"
     ]
    },
    {
     "data": {
      "text/plain": [
       "XGBClassifier(base_score=0.5, booster='gbtree', colsample_bylevel=1,\n",
       "       colsample_bynode=1, colsample_bytree=1, gamma=0, gpu_id=-1,\n",
       "       importance_type='gain', interaction_constraints='',\n",
       "       learning_rate=0.01, max_deapth=5, max_delta_step=0, max_depth=6,\n",
       "       min_child_weight=2, missing=nan, monotone_constraints='()',\n",
       "       n_estimators=250, n_jobs=8, num_parallel_tree=1,\n",
       "       objective='binary:logistic', random_state=0, reg_alpha=0,\n",
       "       reg_lambda=1, scale_pos_weight=1, subsample=0.8,\n",
       "       tree_method='exact', use_label_encoder=True, validate_parameters=1,\n",
       "       verbosity=None)"
      ]
     },
     "execution_count": 8,
     "metadata": {},
     "output_type": "execute_result"
    }
   ],
   "source": [
    "# eval_set = [(X_train, y_train), (X_crossval, y_crossval), (X_test, y_test)]\n",
    "eval_set = [(X_train, y_train), (X_crossval, y_crossval), (X_test,y_test)]\n",
    "eval_metric = [\"auc\",\"error\",\"logloss\"]\n",
    "model.fit(X_train, y_train, eval_metric=eval_metric, eval_set=eval_set, verbose=True)\n",
    "# model.fit(X_train, y_train)"
   ]
  },
  {
   "cell_type": "code",
   "execution_count": 9,
   "metadata": {},
   "outputs": [
    {
     "data": {
      "text/plain": [
       "Text(0.5, 0, 'epocs')"
      ]
     },
     "execution_count": 9,
     "metadata": {},
     "output_type": "execute_result"
    },
    {
     "data": {
      "image/png": "[encoded data removed]",
      "text/plain": [
       "<Figure size 432x288 with 1 Axes>"
      ]
     },
     "metadata": {
      "needs_background": "light"
     },
     "output_type": "display_data"
    }
   ],
   "source": [
    "result = model.evals_result_\n",
    "results = model.evals_result()\n",
    "epochs = len(results['validation_0']['error'])\n",
    "x_axis = range(0, epochs)\n",
    "plt.plot(x_axis,results['validation_0']['logloss'],label='Train')\n",
    "plt.plot(x_axis,results['validation_1']['logloss'],label='Cross-Val')\n",
    "plt.plot(x_axis,results['validation_2']['logloss'],label='Test')\n",
    "plt.legend()\n",
    "plt.ylabel('Log loss')\n",
    "plt.xlabel('epocs')"
   ]
  },
  {
   "cell_type": "code",
   "execution_count": 10,
   "metadata": {},
   "outputs": [
    {
     "data": {
      "text/plain": [
       "Text(0.5, 0, 'epocs')"
      ]
     },
     "execution_count": 10,
     "metadata": {},
     "output_type": "execute_result"
    },
    {
     "data": {
      "image/png": "[encoded data removed]",
      "text/plain": [
       "<Figure size 432x288 with 1 Axes>"
      ]
     },
     "metadata": {
      "needs_background": "light"
     },
     "output_type": "display_data"
    }
   ],
   "source": [
    "x_axis = range(0, epochs)\n",
    "plt.plot(x_axis,results['validation_0']['error'],label='Train')\n",
    "plt.plot(x_axis,results['validation_1']['error'],label='Cross_val')\n",
    "plt.plot(x_axis,results['validation_2']['error'],label='Test')\n",
    "\n",
    "\n",
    "plt.legend()\n",
    "plt.ylabel('Error loss')\n",
    "plt.xlabel('epocs')"
   ]
  },
  {
   "cell_type": "code",
   "execution_count": 11,
   "metadata": {},
   "outputs": [
    {
     "data": {
      "text/plain": [
       "Text(0.5, 0, 'epocs')"
      ]
     },
     "execution_count": 11,
     "metadata": {},
     "output_type": "execute_result"
    },
    {
     "data": {
      "image/png": "[encoded data removed]",
      "text/plain": [
       "<Figure size 432x288 with 1 Axes>"
      ]
     },
     "metadata": {
      "needs_background": "light"
     },
     "output_type": "display_data"
    }
   ],
   "source": [
    "x_axis = range(0, epochs)\n",
    "plt.plot(x_axis,results['validation_0']['auc'],label='Train')\n",
    "plt.plot(x_axis,results['validation_1']['auc'],label='Cross-val')\n",
    "plt.plot(x_axis,results['validation_2']['auc'],label='Test')\n",
    "\n",
    "plt.legend()\n",
    "plt.ylabel('Auc')\n",
    "plt.xlabel('epocs')"
   ]
  },
  {
   "cell_type": "code",
   "execution_count": 91,
   "metadata": {},
   "outputs": [
    {
     "name": "stdout",
     "output_type": "stream",
     "text": [
      "0.9979508196721312\n",
      "[[560   1]\n",
      " [  2 901]]\n"
     ]
    }
   ],
   "source": [
    "print(model.score(X_train,y_train))\n",
    "print(confusion_matrix(y_train,y_pred= model.predict(X_train)))"
   ]
  },
  {
   "cell_type": "code",
   "execution_count": 92,
   "metadata": {},
   "outputs": [
    {
     "name": "stdout",
     "output_type": "stream",
     "text": [
      "0.9700598802395209\n",
      "[[93  5]\n",
      " [ 0 69]]\n"
     ]
    }
   ],
   "source": [
    "print(model.score(X_crossval,y_crossval))\n",
    "print(confusion_matrix(y_crossval,y_pred= model.predict(X_crossval)))"
   ]
  },
  {
   "cell_type": "code",
   "execution_count": 93,
   "metadata": {},
   "outputs": [
    {
     "name": "stdout",
     "output_type": "stream",
     "text": [
      "0.8993288590604027\n",
      "[[69 12]\n",
      " [ 3 65]]\n"
     ]
    }
   ],
   "source": [
    "print(model.score(X_test,y_test))\n",
    "print(confusion_matrix(y_test,y_pred= model.predict(X_test)))"
   ]
  },
  {
   "cell_type": "markdown",
   "metadata": {},
   "source": [
    "### Saving Model and CSV"
   ]
  },
  {
   "cell_type": "code",
   "execution_count": 41,
   "metadata": {},
   "outputs": [],
   "source": [
    "# import pickle\n",
    "# filename = 'XGB_model.model'\n",
    "# pickle.dump(model, open(filename, 'wb'))\n",
    "# train_csv.to_csv('./Train_XGB.csv', index=False)\n",
    "# test_csv.to_csv('./Test_XGB.csv', index=False)\n",
    "# crossval_csv.to_csv('./Cross_XGB.csv', index = False)\n",
    "\n",
    "# load the model from disk\n",
    "# loaded_model = pickle.load(open(filename, 'rb'))\n",
    "# result = loaded_model.score(X_test, Y_test)\n",
    "# print(result)"
   ]
  },
  {
   "cell_type": "code",
   "execution_count": null,
   "metadata": {},
   "outputs": [],
   "source": []
  },
  {
   "cell_type": "code",
   "execution_count": null,
   "metadata": {},
   "outputs": [],
   "source": []
  },
  {
   "cell_type": "markdown",
   "metadata": {},
   "source": [
    "### Random Forest "
   ]
  },
  {
   "cell_type": "code",
   "execution_count": 27,
   "metadata": {},
   "outputs": [],
   "source": [
    "from sklearn.ensemble import RandomForestClassifier"
   ]
  },
  {
   "cell_type": "code",
   "execution_count": 28,
   "metadata": {},
   "outputs": [],
   "source": [
    "model = RandomForestClassifier()"
   ]
  },
  {
   "cell_type": "code",
   "execution_count": 41,
   "metadata": {},
   "outputs": [],
   "source": [
    "# train_csv = pd.read_csv('./Train_XGB.csv')\n",
    "# test_csv = pd.read_csv('./Test_XGB.csv')\n",
    "# crossval_csv = pd.read_csv('./Cross_XGB.csv')\n",
    "# X_train = train_csv.iloc[:,:72]\n",
    "# y_train = train_csv.iloc[:,72]\n",
    "# X_crossval = crossval_csv.iloc[:,:72]\n",
    "# y_crossval = crossval_csv.iloc[:,72]\n",
    "# X_test = test_csv.iloc[:,:72]\n",
    "# y_test = test_csv.iloc[:,72]\n",
    "# #Scaling\n",
    "# scaler = StandardScaler()\n",
    "# X_train = scaler.fit_transform(X_train)\n",
    "# X_crossval = scaler.transform(X_crossval)\n",
    "# X_test = scaler.transform(X_test)\n",
    "# X_train = pd.DataFrame(X_train)\n",
    "# X_crossval = pd.DataFrame(X_crossval)\n",
    "# X_test = pd.DataFrame(X_test)"
   ]
  },
  {
   "cell_type": "code",
   "execution_count": 52,
   "metadata": {},
   "outputs": [
    {
     "name": "stdout",
     "output_type": "stream",
     "text": [
      "0.9993136582017845\n",
      "0.9461077844311377\n",
      "0.8205128205128205\n"
     ]
    }
   ],
   "source": [
    "model.fit(X_train,y_train)\n",
    "print(model.score(X_train,y_train))\n",
    "print(model.score(X_crossval,y_crossval))\n",
    "print(model.score(X_test,y_test))"
   ]
  },
  {
   "cell_type": "markdown",
   "metadata": {},
   "source": [
    "### 10 Folds Random Forest"
   ]
  },
  {
   "cell_type": "code",
   "execution_count": 12,
   "metadata": {},
   "outputs": [
    {
     "ename": "NameError",
     "evalue": "name 'train_test_csv' is not defined",
     "output_type": "error",
     "traceback": [
      "\u001b[0;31m---------------------------------------------------------------------------\u001b[0m",
      "\u001b[0;31mNameError\u001b[0m                                 Traceback (most recent call last)",
      "\u001b[0;32m<ipython-input-12-1c948c94b0c5>\u001b[0m in \u001b[0;36m<module>\u001b[0;34m\u001b[0m\n\u001b[1;32m      2\u001b[0m \u001b[0mtrain\u001b[0m \u001b[0;34m=\u001b[0m \u001b[0;34m[\u001b[0m\u001b[0;34m]\u001b[0m\u001b[0;34m\u001b[0m\u001b[0;34m\u001b[0m\u001b[0m\n\u001b[1;32m      3\u001b[0m \u001b[0;32mfor\u001b[0m \u001b[0mi\u001b[0m \u001b[0;32min\u001b[0m \u001b[0mrange\u001b[0m\u001b[0;34m(\u001b[0m\u001b[0;36m0\u001b[0m\u001b[0;34m,\u001b[0m\u001b[0;36m10\u001b[0m\u001b[0;34m)\u001b[0m\u001b[0;34m:\u001b[0m\u001b[0;34m\u001b[0m\u001b[0;34m\u001b[0m\u001b[0m\n\u001b[0;32m----> 4\u001b[0;31m     \u001b[0mtrain_csv\u001b[0m\u001b[0;34m,\u001b[0m \u001b[0mtest_csv\u001b[0m \u001b[0;34m=\u001b[0m \u001b[0mtrain_test_csv\u001b[0m\u001b[0;34m(\u001b[0m\u001b[0mWheeze_dataframe\u001b[0m\u001b[0;34m,\u001b[0m \u001b[0mAsthmatic_Female\u001b[0m\u001b[0;34m,\u001b[0m \u001b[0mAsthmatic_Male\u001b[0m\u001b[0;34m,\u001b[0m \u001b[0mHealthy_Female\u001b[0m\u001b[0;34m,\u001b[0m \u001b[0mHealthy_Male\u001b[0m\u001b[0;34m,\u001b[0m \u001b[0mbefore_after\u001b[0m\u001b[0;34m)\u001b[0m\u001b[0;34m\u001b[0m\u001b[0;34m\u001b[0m\u001b[0m\n\u001b[0m\u001b[1;32m      5\u001b[0m     \u001b[0mX_train\u001b[0m \u001b[0;34m=\u001b[0m \u001b[0mtrain_csv\u001b[0m\u001b[0;34m.\u001b[0m\u001b[0miloc\u001b[0m\u001b[0;34m[\u001b[0m\u001b[0;34m:\u001b[0m\u001b[0;34m,\u001b[0m\u001b[0;34m:\u001b[0m\u001b[0;36m72\u001b[0m\u001b[0;34m]\u001b[0m\u001b[0;34m\u001b[0m\u001b[0;34m\u001b[0m\u001b[0m\n\u001b[1;32m      6\u001b[0m     \u001b[0my_train\u001b[0m \u001b[0;34m=\u001b[0m \u001b[0mtrain_csv\u001b[0m\u001b[0;34m.\u001b[0m\u001b[0miloc\u001b[0m\u001b[0;34m[\u001b[0m\u001b[0;34m:\u001b[0m\u001b[0;34m,\u001b[0m\u001b[0;36m72\u001b[0m\u001b[0;34m]\u001b[0m\u001b[0;34m\u001b[0m\u001b[0;34m\u001b[0m\u001b[0m\n",
      "\u001b[0;31mNameError\u001b[0m: name 'train_test_csv' is not defined"
     ]
    }
   ],
   "source": [
    "test = []\n",
    "train = []\n",
    "for i in range(0,10):\n",
    "    train_csv, test_csv = train_test_csv(Wheeze_dataframe, Asthmatic_Female, Asthmatic_Male, Healthy_Female, Healthy_Male, before_after)\n",
    "    X_train = train_csv.iloc[:,:72]\n",
    "    y_train = train_csv.iloc[:,72]\n",
    "    X_test = test_csv.iloc[:,:72]\n",
    "    y_test = test_csv.iloc[:,72]\n",
    "    #Scaling\n",
    "    scaler = StandardScaler()\n",
    "    X_train = scaler.fit_transform(X_train)\n",
    "    X_test = scaler.transform(X_test)\n",
    "    X_train = pd.DataFrame(X_train)\n",
    "    X_test = pd.DataFrame(X_test)\n",
    "\n",
    "    model.fit(X_train,y_train)\n",
    "    test.append(metrics.accuracy_score(y_test,model.predict(X_test)))\n",
    "\n",
    "    train.append(metrics.accuracy_score(y_train,model.predict(X_train)))"
   ]
  },
  {
   "cell_type": "code",
   "execution_count": 62,
   "metadata": {},
   "outputs": [],
   "source": [
    "test.append(np.mean(test))\n",
    "test.append(np.std(test[:10]))"
   ]
  },
  {
   "cell_type": "code",
   "execution_count": 63,
   "metadata": {},
   "outputs": [
    {
     "data": {
      "text/html": [
       "<div>\n",
       "<style scoped>\n",
       "    .dataframe tbody tr th:only-of-type {\n",
       "        vertical-align: middle;\n",
       "    }\n",
       "\n",
       "    .dataframe tbody tr th {\n",
       "        vertical-align: top;\n",
       "    }\n",
       "\n",
       "    .dataframe thead th {\n",
       "        text-align: right;\n",
       "    }\n",
       "</style>\n",
       "<table border=\"1\" class=\"dataframe\">\n",
       "  <thead>\n",
       "    <tr style=\"text-align: right;\">\n",
       "      <th></th>\n",
       "      <th>0</th>\n",
       "    </tr>\n",
       "  </thead>\n",
       "  <tbody>\n",
       "    <tr>\n",
       "      <th>Fold1</th>\n",
       "      <td>0.907801</td>\n",
       "    </tr>\n",
       "    <tr>\n",
       "      <th>Fold2</th>\n",
       "      <td>0.833333</td>\n",
       "    </tr>\n",
       "    <tr>\n",
       "      <th>Fold3</th>\n",
       "      <td>0.838235</td>\n",
       "    </tr>\n",
       "    <tr>\n",
       "      <th>Fold4</th>\n",
       "      <td>0.757812</td>\n",
       "    </tr>\n",
       "    <tr>\n",
       "      <th>Fold5</th>\n",
       "      <td>0.808642</td>\n",
       "    </tr>\n",
       "    <tr>\n",
       "      <th>Fold6</th>\n",
       "      <td>0.868020</td>\n",
       "    </tr>\n",
       "    <tr>\n",
       "      <th>Fold7</th>\n",
       "      <td>0.853659</td>\n",
       "    </tr>\n",
       "    <tr>\n",
       "      <th>Fold8</th>\n",
       "      <td>0.836879</td>\n",
       "    </tr>\n",
       "    <tr>\n",
       "      <th>Fold9</th>\n",
       "      <td>0.774834</td>\n",
       "    </tr>\n",
       "    <tr>\n",
       "      <th>Fold10</th>\n",
       "      <td>0.811966</td>\n",
       "    </tr>\n",
       "    <tr>\n",
       "      <th>Mean</th>\n",
       "      <td>0.829118</td>\n",
       "    </tr>\n",
       "    <tr>\n",
       "      <th>STD</th>\n",
       "      <td>0.041488</td>\n",
       "    </tr>\n",
       "  </tbody>\n",
       "</table>\n",
       "</div>"
      ],
      "text/plain": [
       "               0\n",
       "Fold1   0.907801\n",
       "Fold2   0.833333\n",
       "Fold3   0.838235\n",
       "Fold4   0.757812\n",
       "Fold5   0.808642\n",
       "Fold6   0.868020\n",
       "Fold7   0.853659\n",
       "Fold8   0.836879\n",
       "Fold9   0.774834\n",
       "Fold10  0.811966\n",
       "Mean    0.829118\n",
       "STD     0.041488"
      ]
     },
     "execution_count": 63,
     "metadata": {},
     "output_type": "execute_result"
    }
   ],
   "source": [
    "pd.DataFrame(test, index=['Fold1','Fold2','Fold3','Fold4','Fold5','Fold6','Fold7','Fold8','Fold9','Fold10', 'Mean', 'STD'])"
   ]
  },
  {
   "cell_type": "markdown",
   "metadata": {},
   "source": [
    "### Logistic Regression"
   ]
  },
  {
   "cell_type": "code",
   "execution_count": 71,
   "metadata": {},
   "outputs": [],
   "source": [
    "lrmodel = sklearn.linear_model.LogisticRegressionCV(max_iter=1000,penalty='l2',solver='liblinear', Cs= 10,cv=3 )"
   ]
  },
  {
   "cell_type": "code",
   "execution_count": 78,
   "metadata": {
    "scrolled": true
   },
   "outputs": [],
   "source": [
    "test = []\n",
    "train = []\n",
    "for i in range(0,5):\n",
    "    train_csv, test_csv = train_test_csv(Wheeze_dataframe, Asthmatic_Female, Asthmatic_Male, Healthy_Female, Healthy_Male, before_after)\n",
    "    X_train = train_csv.iloc[:,:72]\n",
    "    y_train = train_csv.iloc[:,72]\n",
    "    X_test = test_csv.iloc[:,:72]\n",
    "    y_test = test_csv.iloc[:,72]\n",
    "    #Scaling\n",
    "    scaler = StandardScaler()\n",
    "    X_train = scaler.fit_transform(X_train)\n",
    "    X_test = scaler.transform(X_test)\n",
    "    X_train = pd.DataFrame(X_train)\n",
    "    X_test = pd.DataFrame(X_test)\n",
    "\n",
    "    lrmodel.fit(X_train,y_train)\n",
    "    test.append(metrics.accuracy_score(y_test,lrmodel.predict(X_test)))\n",
    "\n",
    "    train.append(metrics.accuracy_score(y_train,lrmodel.predict(X_train)))"
   ]
  },
  {
   "cell_type": "code",
   "execution_count": 79,
   "metadata": {},
   "outputs": [
    {
     "name": "stdout",
     "output_type": "stream",
     "text": [
      "Test:0.8201454864706245\n",
      "Train:0.8851475897449081\n"
     ]
    }
   ],
   "source": [
    "print('Test:{}' .format(np.mean(test))),\n",
    "print('Train:{}' .format(np.mean(train)))"
   ]
  },
  {
   "cell_type": "code",
   "execution_count": null,
   "metadata": {},
   "outputs": [],
   "source": [
    "from sklearn.metrics import roc_curve, auc\n",
    "\n",
    "logistic_fpr, logistic_tpr, threshold = roc_curve(y_test,  lrmodel.predict_proba(X_test)[:,1])\n",
    "xgb_fpr, xgb_tpr, threshold = roc_curve(y_test, model.predict_proba(X_test)[:,1])\n",
    "\n",
    "auc_logistic = auc(logistic_fpr, logistic_tpr)\n",
    "auc_xgb = auc(xgb_fpr, xgb_tpr)\n",
    "\n",
    "plt.figure(figsize=(5, 5), dpi=100)\n",
    "plt.plot(xgb_fpr, xgb_tpr, linestyle='-', label='XGB (auc = %0.3f)' % auc_xgb)\n",
    "plt.plot(logistic_fpr, logistic_tpr, marker='.', label='Logistic (auc = %0.3f)' % auc_logistic)\n",
    "\n",
    "plt.xlabel('False Positive Rate -->')\n",
    "plt.ylabel('True Positive Rate -->')\n",
    "\n",
    "plt.legend()\n",
    "\n",
    "plt.show()"
   ]
  },
  {
   "cell_type": "code",
   "execution_count": null,
   "metadata": {},
   "outputs": [],
   "source": []
  }
 ],
 "metadata": {
  "kernelspec": {
   "display_name": "Python 3",
   "language": "python",
   "name": "python3"
  },
  "language_info": {
   "codemirror_mode": {
    "name": "ipython",
    "version": 3
   },
   "file_extension": ".py",
   "mimetype": "text/x-python",
   "name": "python",
   "nbconvert_exporter": "python",
   "pygments_lexer": "ipython3",
   "version": "3.7.3"
  }
 },
 "nbformat": 4,
 "nbformat_minor": 2
}
